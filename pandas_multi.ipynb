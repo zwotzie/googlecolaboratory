{
  "nbformat": 4,
  "nbformat_minor": 0,
  "metadata": {
    "colab": {
      "name": "pandas_multi.ipynb",
      "provenance": [],
      "authorship_tag": "ABX9TyMUNkYl9PVUUDczTi2VDp52",
      "include_colab_link": true
    },
    "kernelspec": {
      "name": "python3",
      "display_name": "Python 3"
    }
  },
  "cells": [
    {
      "cell_type": "markdown",
      "metadata": {
        "id": "view-in-github",
        "colab_type": "text"
      },
      "source": [
        "<a href=\"https://colab.research.google.com/github/zwotzie/googlecolaboratory/blob/master/pandas_multi.ipynb\" target=\"_parent\"><img src=\"https://colab.research.google.com/assets/colab-badge.svg\" alt=\"Open In Colab\"/></a>"
      ]
    },
    {
      "cell_type": "code",
      "metadata": {
        "id": "ZkuHncIb6vKb",
        "colab_type": "code",
        "colab": {
          "base_uri": "https://localhost:8080/",
          "height": 51
        },
        "outputId": "887e25e4-f6ea-4b5f-f7f5-697d61dcef7e"
      },
      "source": [
        "import pandas as pd\n",
        "import numpy as np\n",
        "import random\n",
        "import matplotlib.pyplot as plt\n",
        "from IPython.display import display_markdown\n",
        "\n",
        "#from tqdm import tqdm_notebook as tqdm\n",
        "#tqdm().pandas()\n",
        "\n",
        "# https://pandas.pydata.org/pandas-docs/stable/reference/api/pandas.set_option.html\n",
        "#pd.set_option('display.max_columns', None)\n",
        "# pd.options.display.max_columns = None\n",
        "#pd.set_option('display.max_rows', None)\n",
        "#pd.options.display.float_format = '{:.2f}%'.format\n",
        "\n",
        "print(\"Pandas Version: \", pd.__version__)\n",
        "print(\"Numpy Verion:   \", np.__version__)"
      ],
      "execution_count": 15,
      "outputs": [
        {
          "output_type": "stream",
          "text": [
            "Pandas Version:  1.0.5\n",
            "Numpy Verion:    1.18.5\n"
          ],
          "name": "stdout"
        }
      ]
    },
    {
      "cell_type": "code",
      "metadata": {
        "id": "-FIqjC3l61hY",
        "colab_type": "code",
        "colab": {
          "base_uri": "https://localhost:8080/",
          "height": 359
        },
        "outputId": "4e081a8c-94cb-4240-ba85-c85de97aa6fc"
      },
      "source": [
        "A = ['Ram', 'Ram', 'Shyam', 'Shyam', 'Mahima', 'Ram', 'Ram', 'Shyam', 'Shyam', 'Mahima']\n",
        "B = [ 'a', 'a', 'b', 'b', 'c', 'a', 'd', 'e', 'f', 'a' ]\n",
        "C = [ 'ab', 'ab', 'bb', 'bb', 'cb', 'cb', 'db', 'eb', 'fb', 'ab' ]\n",
        "D = [ random.randint(0,100) for i in range(10) ]\n",
        "\n",
        "df = pd.DataFrame({ 'field_a': A, 'field_b': B, 'field_c': C, 'field_d': D })\n",
        "\n",
        "display(df.sort_values(by=['field_a', 'field_b'], ascending = (True, True)))"
      ],
      "execution_count": 16,
      "outputs": [
        {
          "output_type": "display_data",
          "data": {
            "text/html": [
              "<div>\n",
              "<style scoped>\n",
              "    .dataframe tbody tr th:only-of-type {\n",
              "        vertical-align: middle;\n",
              "    }\n",
              "\n",
              "    .dataframe tbody tr th {\n",
              "        vertical-align: top;\n",
              "    }\n",
              "\n",
              "    .dataframe thead th {\n",
              "        text-align: right;\n",
              "    }\n",
              "</style>\n",
              "<table border=\"1\" class=\"dataframe\">\n",
              "  <thead>\n",
              "    <tr style=\"text-align: right;\">\n",
              "      <th></th>\n",
              "      <th>field_a</th>\n",
              "      <th>field_b</th>\n",
              "      <th>field_c</th>\n",
              "      <th>field_d</th>\n",
              "    </tr>\n",
              "  </thead>\n",
              "  <tbody>\n",
              "    <tr>\n",
              "      <th>9</th>\n",
              "      <td>Mahima</td>\n",
              "      <td>a</td>\n",
              "      <td>ab</td>\n",
              "      <td>52</td>\n",
              "    </tr>\n",
              "    <tr>\n",
              "      <th>4</th>\n",
              "      <td>Mahima</td>\n",
              "      <td>c</td>\n",
              "      <td>cb</td>\n",
              "      <td>92</td>\n",
              "    </tr>\n",
              "    <tr>\n",
              "      <th>0</th>\n",
              "      <td>Ram</td>\n",
              "      <td>a</td>\n",
              "      <td>ab</td>\n",
              "      <td>64</td>\n",
              "    </tr>\n",
              "    <tr>\n",
              "      <th>1</th>\n",
              "      <td>Ram</td>\n",
              "      <td>a</td>\n",
              "      <td>ab</td>\n",
              "      <td>86</td>\n",
              "    </tr>\n",
              "    <tr>\n",
              "      <th>5</th>\n",
              "      <td>Ram</td>\n",
              "      <td>a</td>\n",
              "      <td>cb</td>\n",
              "      <td>9</td>\n",
              "    </tr>\n",
              "    <tr>\n",
              "      <th>6</th>\n",
              "      <td>Ram</td>\n",
              "      <td>d</td>\n",
              "      <td>db</td>\n",
              "      <td>1</td>\n",
              "    </tr>\n",
              "    <tr>\n",
              "      <th>2</th>\n",
              "      <td>Shyam</td>\n",
              "      <td>b</td>\n",
              "      <td>bb</td>\n",
              "      <td>91</td>\n",
              "    </tr>\n",
              "    <tr>\n",
              "      <th>3</th>\n",
              "      <td>Shyam</td>\n",
              "      <td>b</td>\n",
              "      <td>bb</td>\n",
              "      <td>66</td>\n",
              "    </tr>\n",
              "    <tr>\n",
              "      <th>7</th>\n",
              "      <td>Shyam</td>\n",
              "      <td>e</td>\n",
              "      <td>eb</td>\n",
              "      <td>42</td>\n",
              "    </tr>\n",
              "    <tr>\n",
              "      <th>8</th>\n",
              "      <td>Shyam</td>\n",
              "      <td>f</td>\n",
              "      <td>fb</td>\n",
              "      <td>36</td>\n",
              "    </tr>\n",
              "  </tbody>\n",
              "</table>\n",
              "</div>"
            ],
            "text/plain": [
              "  field_a field_b field_c  field_d\n",
              "9  Mahima       a      ab       52\n",
              "4  Mahima       c      cb       92\n",
              "0     Ram       a      ab       64\n",
              "1     Ram       a      ab       86\n",
              "5     Ram       a      cb        9\n",
              "6     Ram       d      db        1\n",
              "2   Shyam       b      bb       91\n",
              "3   Shyam       b      bb       66\n",
              "7   Shyam       e      eb       42\n",
              "8   Shyam       f      fb       36"
            ]
          },
          "metadata": {
            "tags": []
          }
        }
      ]
    },
    {
      "cell_type": "code",
      "metadata": {
        "id": "rgM9tmDx9BKg",
        "colab_type": "code",
        "colab": {}
      },
      "source": [
        "ds = df.groupby(by=['field_a', 'field_b'], as_index=False).agg(\n",
        "    {\n",
        "        'field_c': ['nunique', 'count']\n",
        "    })"
      ],
      "execution_count": 17,
      "outputs": []
    },
    {
      "cell_type": "code",
      "metadata": {
        "id": "HzR2FGhZ92bz",
        "colab_type": "code",
        "colab": {
          "base_uri": "https://localhost:8080/",
          "height": 297
        },
        "outputId": "c4c3f55c-186b-475b-c1d2-2ba5901c9c57"
      },
      "source": [
        "ds"
      ],
      "execution_count": 18,
      "outputs": [
        {
          "output_type": "execute_result",
          "data": {
            "text/html": [
              "<div>\n",
              "<style scoped>\n",
              "    .dataframe tbody tr th:only-of-type {\n",
              "        vertical-align: middle;\n",
              "    }\n",
              "\n",
              "    .dataframe tbody tr th {\n",
              "        vertical-align: top;\n",
              "    }\n",
              "\n",
              "    .dataframe thead tr th {\n",
              "        text-align: left;\n",
              "    }\n",
              "</style>\n",
              "<table border=\"1\" class=\"dataframe\">\n",
              "  <thead>\n",
              "    <tr>\n",
              "      <th></th>\n",
              "      <th>field_a</th>\n",
              "      <th>field_b</th>\n",
              "      <th colspan=\"2\" halign=\"left\">field_c</th>\n",
              "    </tr>\n",
              "    <tr>\n",
              "      <th></th>\n",
              "      <th></th>\n",
              "      <th></th>\n",
              "      <th>nunique</th>\n",
              "      <th>count</th>\n",
              "    </tr>\n",
              "  </thead>\n",
              "  <tbody>\n",
              "    <tr>\n",
              "      <th>0</th>\n",
              "      <td>Mahima</td>\n",
              "      <td>a</td>\n",
              "      <td>1</td>\n",
              "      <td>1</td>\n",
              "    </tr>\n",
              "    <tr>\n",
              "      <th>1</th>\n",
              "      <td>Mahima</td>\n",
              "      <td>c</td>\n",
              "      <td>1</td>\n",
              "      <td>1</td>\n",
              "    </tr>\n",
              "    <tr>\n",
              "      <th>2</th>\n",
              "      <td>Ram</td>\n",
              "      <td>a</td>\n",
              "      <td>2</td>\n",
              "      <td>3</td>\n",
              "    </tr>\n",
              "    <tr>\n",
              "      <th>3</th>\n",
              "      <td>Ram</td>\n",
              "      <td>d</td>\n",
              "      <td>1</td>\n",
              "      <td>1</td>\n",
              "    </tr>\n",
              "    <tr>\n",
              "      <th>4</th>\n",
              "      <td>Shyam</td>\n",
              "      <td>b</td>\n",
              "      <td>1</td>\n",
              "      <td>2</td>\n",
              "    </tr>\n",
              "    <tr>\n",
              "      <th>5</th>\n",
              "      <td>Shyam</td>\n",
              "      <td>e</td>\n",
              "      <td>1</td>\n",
              "      <td>1</td>\n",
              "    </tr>\n",
              "    <tr>\n",
              "      <th>6</th>\n",
              "      <td>Shyam</td>\n",
              "      <td>f</td>\n",
              "      <td>1</td>\n",
              "      <td>1</td>\n",
              "    </tr>\n",
              "  </tbody>\n",
              "</table>\n",
              "</div>"
            ],
            "text/plain": [
              "  field_a field_b field_c      \n",
              "                  nunique count\n",
              "0  Mahima       a       1     1\n",
              "1  Mahima       c       1     1\n",
              "2     Ram       a       2     3\n",
              "3     Ram       d       1     1\n",
              "4   Shyam       b       1     2\n",
              "5   Shyam       e       1     1\n",
              "6   Shyam       f       1     1"
            ]
          },
          "metadata": {
            "tags": []
          },
          "execution_count": 18
        }
      ]
    },
    {
      "cell_type": "code",
      "metadata": {
        "id": "jQImhYth7iIn",
        "colab_type": "code",
        "colab": {
          "base_uri": "https://localhost:8080/",
          "height": 142
        },
        "outputId": "681a4832-b348-478c-aa46-ea66ca17248e"
      },
      "source": [
        "domain = 'Ram'\n",
        "ds[(ds.field_a == domain) & (ds['field_c', 'nunique'] > 0)]"
      ],
      "execution_count": 19,
      "outputs": [
        {
          "output_type": "execute_result",
          "data": {
            "text/html": [
              "<div>\n",
              "<style scoped>\n",
              "    .dataframe tbody tr th:only-of-type {\n",
              "        vertical-align: middle;\n",
              "    }\n",
              "\n",
              "    .dataframe tbody tr th {\n",
              "        vertical-align: top;\n",
              "    }\n",
              "\n",
              "    .dataframe thead tr th {\n",
              "        text-align: left;\n",
              "    }\n",
              "</style>\n",
              "<table border=\"1\" class=\"dataframe\">\n",
              "  <thead>\n",
              "    <tr>\n",
              "      <th></th>\n",
              "      <th>field_a</th>\n",
              "      <th>field_b</th>\n",
              "      <th colspan=\"2\" halign=\"left\">field_c</th>\n",
              "    </tr>\n",
              "    <tr>\n",
              "      <th></th>\n",
              "      <th></th>\n",
              "      <th></th>\n",
              "      <th>nunique</th>\n",
              "      <th>count</th>\n",
              "    </tr>\n",
              "  </thead>\n",
              "  <tbody>\n",
              "    <tr>\n",
              "      <th>2</th>\n",
              "      <td>Ram</td>\n",
              "      <td>a</td>\n",
              "      <td>2</td>\n",
              "      <td>3</td>\n",
              "    </tr>\n",
              "    <tr>\n",
              "      <th>3</th>\n",
              "      <td>Ram</td>\n",
              "      <td>d</td>\n",
              "      <td>1</td>\n",
              "      <td>1</td>\n",
              "    </tr>\n",
              "  </tbody>\n",
              "</table>\n",
              "</div>"
            ],
            "text/plain": [
              "  field_a field_b field_c      \n",
              "                  nunique count\n",
              "2     Ram       a       2     3\n",
              "3     Ram       d       1     1"
            ]
          },
          "metadata": {
            "tags": []
          },
          "execution_count": 19
        }
      ]
    },
    {
      "cell_type": "code",
      "metadata": {
        "id": "RhB-X7Xd8Biq",
        "colab_type": "code",
        "colab": {
          "base_uri": "https://localhost:8080/",
          "height": 142
        },
        "outputId": "484d2057-ac29-4563-98fe-73acecf77f15"
      },
      "source": [
        "ds[(ds.field_a == domain) & (ds['field_c', 'nunique'] > 0)].sort_values(by=('field_c', 'nunique'), ascending = (True))"
      ],
      "execution_count": 20,
      "outputs": [
        {
          "output_type": "execute_result",
          "data": {
            "text/html": [
              "<div>\n",
              "<style scoped>\n",
              "    .dataframe tbody tr th:only-of-type {\n",
              "        vertical-align: middle;\n",
              "    }\n",
              "\n",
              "    .dataframe tbody tr th {\n",
              "        vertical-align: top;\n",
              "    }\n",
              "\n",
              "    .dataframe thead tr th {\n",
              "        text-align: left;\n",
              "    }\n",
              "</style>\n",
              "<table border=\"1\" class=\"dataframe\">\n",
              "  <thead>\n",
              "    <tr>\n",
              "      <th></th>\n",
              "      <th>field_a</th>\n",
              "      <th>field_b</th>\n",
              "      <th colspan=\"2\" halign=\"left\">field_c</th>\n",
              "    </tr>\n",
              "    <tr>\n",
              "      <th></th>\n",
              "      <th></th>\n",
              "      <th></th>\n",
              "      <th>nunique</th>\n",
              "      <th>count</th>\n",
              "    </tr>\n",
              "  </thead>\n",
              "  <tbody>\n",
              "    <tr>\n",
              "      <th>3</th>\n",
              "      <td>Ram</td>\n",
              "      <td>d</td>\n",
              "      <td>1</td>\n",
              "      <td>1</td>\n",
              "    </tr>\n",
              "    <tr>\n",
              "      <th>2</th>\n",
              "      <td>Ram</td>\n",
              "      <td>a</td>\n",
              "      <td>2</td>\n",
              "      <td>3</td>\n",
              "    </tr>\n",
              "  </tbody>\n",
              "</table>\n",
              "</div>"
            ],
            "text/plain": [
              "  field_a field_b field_c      \n",
              "                  nunique count\n",
              "3     Ram       d       1     1\n",
              "2     Ram       a       2     3"
            ]
          },
          "metadata": {
            "tags": []
          },
          "execution_count": 20
        }
      ]
    },
    {
      "cell_type": "code",
      "metadata": {
        "id": "-NuYr6LJ-_Zn",
        "colab_type": "code",
        "colab": {
          "base_uri": "https://localhost:8080/",
          "height": 103
        },
        "outputId": "7809ccc7-55e8-448b-9c99-6267f9cd6253"
      },
      "source": [
        "ds[(ds.field_a == domain) & (ds['field_c', 'nunique'] > 0)].sort_values(by=('field_c', 'nunique'), ascending = (True)).style.hide_index()"
      ],
      "execution_count": 21,
      "outputs": [
        {
          "output_type": "execute_result",
          "data": {
            "text/html": [
              "<style  type=\"text/css\" >\n",
              "</style><table id=\"T_1e2bcd52_d6ec_11ea_bb76_0242ac1c0002\" ><thead>    <tr>        <th class=\"col_heading level0 col0\" >field_a</th>        <th class=\"col_heading level0 col1\" >field_b</th>        <th class=\"col_heading level0 col2\" colspan=2>field_c</th>    </tr>    <tr>        <th class=\"col_heading level1 col0\" ></th>        <th class=\"col_heading level1 col1\" ></th>        <th class=\"col_heading level1 col2\" >nunique</th>        <th class=\"col_heading level1 col3\" >count</th>    </tr></thead><tbody>\n",
              "                <tr>\n",
              "                                <td id=\"T_1e2bcd52_d6ec_11ea_bb76_0242ac1c0002row0_col0\" class=\"data row0 col0\" >Ram</td>\n",
              "                        <td id=\"T_1e2bcd52_d6ec_11ea_bb76_0242ac1c0002row0_col1\" class=\"data row0 col1\" >d</td>\n",
              "                        <td id=\"T_1e2bcd52_d6ec_11ea_bb76_0242ac1c0002row0_col2\" class=\"data row0 col2\" >1</td>\n",
              "                        <td id=\"T_1e2bcd52_d6ec_11ea_bb76_0242ac1c0002row0_col3\" class=\"data row0 col3\" >1</td>\n",
              "            </tr>\n",
              "            <tr>\n",
              "                                <td id=\"T_1e2bcd52_d6ec_11ea_bb76_0242ac1c0002row1_col0\" class=\"data row1 col0\" >Ram</td>\n",
              "                        <td id=\"T_1e2bcd52_d6ec_11ea_bb76_0242ac1c0002row1_col1\" class=\"data row1 col1\" >a</td>\n",
              "                        <td id=\"T_1e2bcd52_d6ec_11ea_bb76_0242ac1c0002row1_col2\" class=\"data row1 col2\" >2</td>\n",
              "                        <td id=\"T_1e2bcd52_d6ec_11ea_bb76_0242ac1c0002row1_col3\" class=\"data row1 col3\" >3</td>\n",
              "            </tr>\n",
              "    </tbody></table>"
            ],
            "text/plain": [
              "<pandas.io.formats.style.Styler at 0x7f3770d42208>"
            ]
          },
          "metadata": {
            "tags": []
          },
          "execution_count": 21
        }
      ]
    },
    {
      "cell_type": "code",
      "metadata": {
        "id": "qjGFqdFr_8hP",
        "colab_type": "code",
        "colab": {
          "base_uri": "https://localhost:8080/",
          "height": 103
        },
        "outputId": "8ca3c827-240a-4a1d-c93d-32f470a7b379"
      },
      "source": [
        "ds[(ds.field_a == domain) & (ds['field_c', 'nunique'] > 0)].sort_values(by=('field_c', 'nunique'), ascending = (True)).style.hide_index().set_properties(subset=[\"field_a\", \"field_b\"], **{'text-align': 'left'})"
      ],
      "execution_count": 22,
      "outputs": [
        {
          "output_type": "execute_result",
          "data": {
            "text/html": [
              "<style  type=\"text/css\" >\n",
              "    #T_1f13889a_d6ec_11ea_bb76_0242ac1c0002row0_col0 {\n",
              "            text-align:  left;\n",
              "        }    #T_1f13889a_d6ec_11ea_bb76_0242ac1c0002row0_col1 {\n",
              "            text-align:  left;\n",
              "        }    #T_1f13889a_d6ec_11ea_bb76_0242ac1c0002row1_col0 {\n",
              "            text-align:  left;\n",
              "        }    #T_1f13889a_d6ec_11ea_bb76_0242ac1c0002row1_col1 {\n",
              "            text-align:  left;\n",
              "        }</style><table id=\"T_1f13889a_d6ec_11ea_bb76_0242ac1c0002\" ><thead>    <tr>        <th class=\"col_heading level0 col0\" >field_a</th>        <th class=\"col_heading level0 col1\" >field_b</th>        <th class=\"col_heading level0 col2\" colspan=2>field_c</th>    </tr>    <tr>        <th class=\"col_heading level1 col0\" ></th>        <th class=\"col_heading level1 col1\" ></th>        <th class=\"col_heading level1 col2\" >nunique</th>        <th class=\"col_heading level1 col3\" >count</th>    </tr></thead><tbody>\n",
              "                <tr>\n",
              "                                <td id=\"T_1f13889a_d6ec_11ea_bb76_0242ac1c0002row0_col0\" class=\"data row0 col0\" >Ram</td>\n",
              "                        <td id=\"T_1f13889a_d6ec_11ea_bb76_0242ac1c0002row0_col1\" class=\"data row0 col1\" >d</td>\n",
              "                        <td id=\"T_1f13889a_d6ec_11ea_bb76_0242ac1c0002row0_col2\" class=\"data row0 col2\" >1</td>\n",
              "                        <td id=\"T_1f13889a_d6ec_11ea_bb76_0242ac1c0002row0_col3\" class=\"data row0 col3\" >1</td>\n",
              "            </tr>\n",
              "            <tr>\n",
              "                                <td id=\"T_1f13889a_d6ec_11ea_bb76_0242ac1c0002row1_col0\" class=\"data row1 col0\" >Ram</td>\n",
              "                        <td id=\"T_1f13889a_d6ec_11ea_bb76_0242ac1c0002row1_col1\" class=\"data row1 col1\" >a</td>\n",
              "                        <td id=\"T_1f13889a_d6ec_11ea_bb76_0242ac1c0002row1_col2\" class=\"data row1 col2\" >2</td>\n",
              "                        <td id=\"T_1f13889a_d6ec_11ea_bb76_0242ac1c0002row1_col3\" class=\"data row1 col3\" >3</td>\n",
              "            </tr>\n",
              "    </tbody></table>"
            ],
            "text/plain": [
              "<pandas.io.formats.style.Styler at 0x7f3771167e10>"
            ]
          },
          "metadata": {
            "tags": []
          },
          "execution_count": 22
        }
      ]
    },
    {
      "cell_type": "code",
      "metadata": {
        "id": "GShzCZmyB8lb",
        "colab_type": "code",
        "colab": {
          "base_uri": "https://localhost:8080/",
          "height": 465
        },
        "outputId": "0eef24cb-25a1-4c74-b431-80f81885d214"
      },
      "source": [
        "for domain in sorted(df.field_a.unique()):\n",
        "  display_markdown('***', raw=True)\n",
        "  display_markdown(f'## We are looking at: {domain}', raw=True)\n",
        "  display(ds[(ds.field_a == domain) & (ds['field_c', 'nunique'] > 0)].sort_values(by=('field_c', 'nunique'), ascending = (True)).style.hide_index())\n"
      ],
      "execution_count": 23,
      "outputs": [
        {
          "output_type": "display_data",
          "data": {
            "text/markdown": "***"
          },
          "metadata": {
            "tags": []
          }
        },
        {
          "output_type": "display_data",
          "data": {
            "text/markdown": "## We are looking at: Mahima"
          },
          "metadata": {
            "tags": []
          }
        },
        {
          "output_type": "display_data",
          "data": {
            "text/html": [
              "<style  type=\"text/css\" >\n",
              "</style><table id=\"T_1fc8d506_d6ec_11ea_bb76_0242ac1c0002\" ><thead>    <tr>        <th class=\"col_heading level0 col0\" >field_a</th>        <th class=\"col_heading level0 col1\" >field_b</th>        <th class=\"col_heading level0 col2\" colspan=2>field_c</th>    </tr>    <tr>        <th class=\"col_heading level1 col0\" ></th>        <th class=\"col_heading level1 col1\" ></th>        <th class=\"col_heading level1 col2\" >nunique</th>        <th class=\"col_heading level1 col3\" >count</th>    </tr></thead><tbody>\n",
              "                <tr>\n",
              "                                <td id=\"T_1fc8d506_d6ec_11ea_bb76_0242ac1c0002row0_col0\" class=\"data row0 col0\" >Mahima</td>\n",
              "                        <td id=\"T_1fc8d506_d6ec_11ea_bb76_0242ac1c0002row0_col1\" class=\"data row0 col1\" >a</td>\n",
              "                        <td id=\"T_1fc8d506_d6ec_11ea_bb76_0242ac1c0002row0_col2\" class=\"data row0 col2\" >1</td>\n",
              "                        <td id=\"T_1fc8d506_d6ec_11ea_bb76_0242ac1c0002row0_col3\" class=\"data row0 col3\" >1</td>\n",
              "            </tr>\n",
              "            <tr>\n",
              "                                <td id=\"T_1fc8d506_d6ec_11ea_bb76_0242ac1c0002row1_col0\" class=\"data row1 col0\" >Mahima</td>\n",
              "                        <td id=\"T_1fc8d506_d6ec_11ea_bb76_0242ac1c0002row1_col1\" class=\"data row1 col1\" >c</td>\n",
              "                        <td id=\"T_1fc8d506_d6ec_11ea_bb76_0242ac1c0002row1_col2\" class=\"data row1 col2\" >1</td>\n",
              "                        <td id=\"T_1fc8d506_d6ec_11ea_bb76_0242ac1c0002row1_col3\" class=\"data row1 col3\" >1</td>\n",
              "            </tr>\n",
              "    </tbody></table>"
            ],
            "text/plain": [
              "<pandas.io.formats.style.Styler at 0x7f37711129e8>"
            ]
          },
          "metadata": {
            "tags": []
          }
        },
        {
          "output_type": "display_data",
          "data": {
            "text/markdown": "***"
          },
          "metadata": {
            "tags": []
          }
        },
        {
          "output_type": "display_data",
          "data": {
            "text/markdown": "## We are looking at: Ram"
          },
          "metadata": {
            "tags": []
          }
        },
        {
          "output_type": "display_data",
          "data": {
            "text/html": [
              "<style  type=\"text/css\" >\n",
              "</style><table id=\"T_1fcad414_d6ec_11ea_bb76_0242ac1c0002\" ><thead>    <tr>        <th class=\"col_heading level0 col0\" >field_a</th>        <th class=\"col_heading level0 col1\" >field_b</th>        <th class=\"col_heading level0 col2\" colspan=2>field_c</th>    </tr>    <tr>        <th class=\"col_heading level1 col0\" ></th>        <th class=\"col_heading level1 col1\" ></th>        <th class=\"col_heading level1 col2\" >nunique</th>        <th class=\"col_heading level1 col3\" >count</th>    </tr></thead><tbody>\n",
              "                <tr>\n",
              "                                <td id=\"T_1fcad414_d6ec_11ea_bb76_0242ac1c0002row0_col0\" class=\"data row0 col0\" >Ram</td>\n",
              "                        <td id=\"T_1fcad414_d6ec_11ea_bb76_0242ac1c0002row0_col1\" class=\"data row0 col1\" >d</td>\n",
              "                        <td id=\"T_1fcad414_d6ec_11ea_bb76_0242ac1c0002row0_col2\" class=\"data row0 col2\" >1</td>\n",
              "                        <td id=\"T_1fcad414_d6ec_11ea_bb76_0242ac1c0002row0_col3\" class=\"data row0 col3\" >1</td>\n",
              "            </tr>\n",
              "            <tr>\n",
              "                                <td id=\"T_1fcad414_d6ec_11ea_bb76_0242ac1c0002row1_col0\" class=\"data row1 col0\" >Ram</td>\n",
              "                        <td id=\"T_1fcad414_d6ec_11ea_bb76_0242ac1c0002row1_col1\" class=\"data row1 col1\" >a</td>\n",
              "                        <td id=\"T_1fcad414_d6ec_11ea_bb76_0242ac1c0002row1_col2\" class=\"data row1 col2\" >2</td>\n",
              "                        <td id=\"T_1fcad414_d6ec_11ea_bb76_0242ac1c0002row1_col3\" class=\"data row1 col3\" >3</td>\n",
              "            </tr>\n",
              "    </tbody></table>"
            ],
            "text/plain": [
              "<pandas.io.formats.style.Styler at 0x7f37713939e8>"
            ]
          },
          "metadata": {
            "tags": []
          }
        },
        {
          "output_type": "display_data",
          "data": {
            "text/markdown": "***"
          },
          "metadata": {
            "tags": []
          }
        },
        {
          "output_type": "display_data",
          "data": {
            "text/markdown": "## We are looking at: Shyam"
          },
          "metadata": {
            "tags": []
          }
        },
        {
          "output_type": "display_data",
          "data": {
            "text/html": [
              "<style  type=\"text/css\" >\n",
              "</style><table id=\"T_1fccc04e_d6ec_11ea_bb76_0242ac1c0002\" ><thead>    <tr>        <th class=\"col_heading level0 col0\" >field_a</th>        <th class=\"col_heading level0 col1\" >field_b</th>        <th class=\"col_heading level0 col2\" colspan=2>field_c</th>    </tr>    <tr>        <th class=\"col_heading level1 col0\" ></th>        <th class=\"col_heading level1 col1\" ></th>        <th class=\"col_heading level1 col2\" >nunique</th>        <th class=\"col_heading level1 col3\" >count</th>    </tr></thead><tbody>\n",
              "                <tr>\n",
              "                                <td id=\"T_1fccc04e_d6ec_11ea_bb76_0242ac1c0002row0_col0\" class=\"data row0 col0\" >Shyam</td>\n",
              "                        <td id=\"T_1fccc04e_d6ec_11ea_bb76_0242ac1c0002row0_col1\" class=\"data row0 col1\" >b</td>\n",
              "                        <td id=\"T_1fccc04e_d6ec_11ea_bb76_0242ac1c0002row0_col2\" class=\"data row0 col2\" >1</td>\n",
              "                        <td id=\"T_1fccc04e_d6ec_11ea_bb76_0242ac1c0002row0_col3\" class=\"data row0 col3\" >2</td>\n",
              "            </tr>\n",
              "            <tr>\n",
              "                                <td id=\"T_1fccc04e_d6ec_11ea_bb76_0242ac1c0002row1_col0\" class=\"data row1 col0\" >Shyam</td>\n",
              "                        <td id=\"T_1fccc04e_d6ec_11ea_bb76_0242ac1c0002row1_col1\" class=\"data row1 col1\" >e</td>\n",
              "                        <td id=\"T_1fccc04e_d6ec_11ea_bb76_0242ac1c0002row1_col2\" class=\"data row1 col2\" >1</td>\n",
              "                        <td id=\"T_1fccc04e_d6ec_11ea_bb76_0242ac1c0002row1_col3\" class=\"data row1 col3\" >1</td>\n",
              "            </tr>\n",
              "            <tr>\n",
              "                                <td id=\"T_1fccc04e_d6ec_11ea_bb76_0242ac1c0002row2_col0\" class=\"data row2 col0\" >Shyam</td>\n",
              "                        <td id=\"T_1fccc04e_d6ec_11ea_bb76_0242ac1c0002row2_col1\" class=\"data row2 col1\" >f</td>\n",
              "                        <td id=\"T_1fccc04e_d6ec_11ea_bb76_0242ac1c0002row2_col2\" class=\"data row2 col2\" >1</td>\n",
              "                        <td id=\"T_1fccc04e_d6ec_11ea_bb76_0242ac1c0002row2_col3\" class=\"data row2 col3\" >1</td>\n",
              "            </tr>\n",
              "    </tbody></table>"
            ],
            "text/plain": [
              "<pandas.io.formats.style.Styler at 0x7f3770d422b0>"
            ]
          },
          "metadata": {
            "tags": []
          }
        }
      ]
    },
    {
      "cell_type": "markdown",
      "metadata": {
        "id": "85cv1tO7fm50",
        "colab_type": "text"
      },
      "source": [
        "## Multiple (all) Colums Into A Function\n"
      ]
    },
    {
      "cell_type": "code",
      "metadata": {
        "id": "Cxn-6F14fXMA",
        "colab_type": "code",
        "colab": {
          "base_uri": "https://localhost:8080/",
          "height": 359
        },
        "outputId": "7ca3ea8e-8153-47d6-96d5-556fdce91ef5"
      },
      "source": [
        "def f(x):\n",
        "  return x['field_b'] + \":\" + x['field_c']\n",
        "\n",
        "df['result_f'] = df.apply(f, axis=1)\n",
        "df"
      ],
      "execution_count": 24,
      "outputs": [
        {
          "output_type": "execute_result",
          "data": {
            "text/html": [
              "<div>\n",
              "<style scoped>\n",
              "    .dataframe tbody tr th:only-of-type {\n",
              "        vertical-align: middle;\n",
              "    }\n",
              "\n",
              "    .dataframe tbody tr th {\n",
              "        vertical-align: top;\n",
              "    }\n",
              "\n",
              "    .dataframe thead th {\n",
              "        text-align: right;\n",
              "    }\n",
              "</style>\n",
              "<table border=\"1\" class=\"dataframe\">\n",
              "  <thead>\n",
              "    <tr style=\"text-align: right;\">\n",
              "      <th></th>\n",
              "      <th>field_a</th>\n",
              "      <th>field_b</th>\n",
              "      <th>field_c</th>\n",
              "      <th>field_d</th>\n",
              "      <th>result_f</th>\n",
              "    </tr>\n",
              "  </thead>\n",
              "  <tbody>\n",
              "    <tr>\n",
              "      <th>0</th>\n",
              "      <td>Ram</td>\n",
              "      <td>a</td>\n",
              "      <td>ab</td>\n",
              "      <td>64</td>\n",
              "      <td>a:ab</td>\n",
              "    </tr>\n",
              "    <tr>\n",
              "      <th>1</th>\n",
              "      <td>Ram</td>\n",
              "      <td>a</td>\n",
              "      <td>ab</td>\n",
              "      <td>86</td>\n",
              "      <td>a:ab</td>\n",
              "    </tr>\n",
              "    <tr>\n",
              "      <th>2</th>\n",
              "      <td>Shyam</td>\n",
              "      <td>b</td>\n",
              "      <td>bb</td>\n",
              "      <td>91</td>\n",
              "      <td>b:bb</td>\n",
              "    </tr>\n",
              "    <tr>\n",
              "      <th>3</th>\n",
              "      <td>Shyam</td>\n",
              "      <td>b</td>\n",
              "      <td>bb</td>\n",
              "      <td>66</td>\n",
              "      <td>b:bb</td>\n",
              "    </tr>\n",
              "    <tr>\n",
              "      <th>4</th>\n",
              "      <td>Mahima</td>\n",
              "      <td>c</td>\n",
              "      <td>cb</td>\n",
              "      <td>92</td>\n",
              "      <td>c:cb</td>\n",
              "    </tr>\n",
              "    <tr>\n",
              "      <th>5</th>\n",
              "      <td>Ram</td>\n",
              "      <td>a</td>\n",
              "      <td>cb</td>\n",
              "      <td>9</td>\n",
              "      <td>a:cb</td>\n",
              "    </tr>\n",
              "    <tr>\n",
              "      <th>6</th>\n",
              "      <td>Ram</td>\n",
              "      <td>d</td>\n",
              "      <td>db</td>\n",
              "      <td>1</td>\n",
              "      <td>d:db</td>\n",
              "    </tr>\n",
              "    <tr>\n",
              "      <th>7</th>\n",
              "      <td>Shyam</td>\n",
              "      <td>e</td>\n",
              "      <td>eb</td>\n",
              "      <td>42</td>\n",
              "      <td>e:eb</td>\n",
              "    </tr>\n",
              "    <tr>\n",
              "      <th>8</th>\n",
              "      <td>Shyam</td>\n",
              "      <td>f</td>\n",
              "      <td>fb</td>\n",
              "      <td>36</td>\n",
              "      <td>f:fb</td>\n",
              "    </tr>\n",
              "    <tr>\n",
              "      <th>9</th>\n",
              "      <td>Mahima</td>\n",
              "      <td>a</td>\n",
              "      <td>ab</td>\n",
              "      <td>52</td>\n",
              "      <td>a:ab</td>\n",
              "    </tr>\n",
              "  </tbody>\n",
              "</table>\n",
              "</div>"
            ],
            "text/plain": [
              "  field_a field_b field_c  field_d result_f\n",
              "0     Ram       a      ab       64     a:ab\n",
              "1     Ram       a      ab       86     a:ab\n",
              "2   Shyam       b      bb       91     b:bb\n",
              "3   Shyam       b      bb       66     b:bb\n",
              "4  Mahima       c      cb       92     c:cb\n",
              "5     Ram       a      cb        9     a:cb\n",
              "6     Ram       d      db        1     d:db\n",
              "7   Shyam       e      eb       42     e:eb\n",
              "8   Shyam       f      fb       36     f:fb\n",
              "9  Mahima       a      ab       52     a:ab"
            ]
          },
          "metadata": {
            "tags": []
          },
          "execution_count": 24
        }
      ]
    },
    {
      "cell_type": "markdown",
      "metadata": {
        "id": "m50j5ictgB8K",
        "colab_type": "text"
      },
      "source": [
        "# Styling In Dataframes"
      ]
    },
    {
      "cell_type": "code",
      "metadata": {
        "id": "H_A4hyWUCmTA",
        "colab_type": "code",
        "colab": {
          "base_uri": "https://localhost:8080/",
          "height": 314
        },
        "outputId": "54a9c94d-3578-47fe-882c-1a4321b2c63c"
      },
      "source": [
        "df =  pd.DataFrame({'A':[23,25,10], 'B':[7,8,3], 'C':[8,3,1]})\n",
        "display (df)\n",
        "\n",
        "def highlight_col(x):\n",
        "    #copy df to new - original data are not changed\n",
        "    df = x.copy()\n",
        "    #set by condition\n",
        "    mask = df['A'] == 23\n",
        "    df.loc[mask, :] = 'color: yellow'\n",
        "    df.loc[~mask,:] = 'color: red'\n",
        "    return df\n",
        "\n",
        "#display(df.style.apply(highlight_col, axis=None))\n",
        "display(df.style.highlight_max(color='green'))\n",
        "\n",
        "def highlight_fifty(val): \n",
        "   color = 'red' if val > 11 else 'black' \n",
        "   return f'color: {color}'\n",
        "\n",
        "display(df.style.applymap(highlight_fifty))"
      ],
      "execution_count": null,
      "outputs": [
        {
          "output_type": "display_data",
          "data": {
            "text/html": [
              "<div>\n",
              "<style scoped>\n",
              "    .dataframe tbody tr th:only-of-type {\n",
              "        vertical-align: middle;\n",
              "    }\n",
              "\n",
              "    .dataframe tbody tr th {\n",
              "        vertical-align: top;\n",
              "    }\n",
              "\n",
              "    .dataframe thead th {\n",
              "        text-align: right;\n",
              "    }\n",
              "</style>\n",
              "<table border=\"1\" class=\"dataframe\">\n",
              "  <thead>\n",
              "    <tr style=\"text-align: right;\">\n",
              "      <th></th>\n",
              "      <th>A</th>\n",
              "      <th>B</th>\n",
              "      <th>C</th>\n",
              "    </tr>\n",
              "  </thead>\n",
              "  <tbody>\n",
              "    <tr>\n",
              "      <th>0</th>\n",
              "      <td>23</td>\n",
              "      <td>7</td>\n",
              "      <td>8</td>\n",
              "    </tr>\n",
              "    <tr>\n",
              "      <th>1</th>\n",
              "      <td>25</td>\n",
              "      <td>8</td>\n",
              "      <td>3</td>\n",
              "    </tr>\n",
              "    <tr>\n",
              "      <th>2</th>\n",
              "      <td>10</td>\n",
              "      <td>3</td>\n",
              "      <td>1</td>\n",
              "    </tr>\n",
              "  </tbody>\n",
              "</table>\n",
              "</div>"
            ],
            "text/plain": [
              "    A  B  C\n",
              "0  23  7  8\n",
              "1  25  8  3\n",
              "2  10  3  1"
            ]
          },
          "metadata": {
            "tags": []
          }
        },
        {
          "output_type": "display_data",
          "data": {
            "text/html": [
              "<style  type=\"text/css\" >\n",
              "    #T_1de64c5a_cb61_11ea_b0b4_0242ac1c0002row0_col2 {\n",
              "            background-color:  green;\n",
              "        }    #T_1de64c5a_cb61_11ea_b0b4_0242ac1c0002row1_col0 {\n",
              "            background-color:  green;\n",
              "        }    #T_1de64c5a_cb61_11ea_b0b4_0242ac1c0002row1_col1 {\n",
              "            background-color:  green;\n",
              "        }</style><table id=\"T_1de64c5a_cb61_11ea_b0b4_0242ac1c0002\" ><thead>    <tr>        <th class=\"blank level0\" ></th>        <th class=\"col_heading level0 col0\" >A</th>        <th class=\"col_heading level0 col1\" >B</th>        <th class=\"col_heading level0 col2\" >C</th>    </tr></thead><tbody>\n",
              "                <tr>\n",
              "                        <th id=\"T_1de64c5a_cb61_11ea_b0b4_0242ac1c0002level0_row0\" class=\"row_heading level0 row0\" >0</th>\n",
              "                        <td id=\"T_1de64c5a_cb61_11ea_b0b4_0242ac1c0002row0_col0\" class=\"data row0 col0\" >23</td>\n",
              "                        <td id=\"T_1de64c5a_cb61_11ea_b0b4_0242ac1c0002row0_col1\" class=\"data row0 col1\" >7</td>\n",
              "                        <td id=\"T_1de64c5a_cb61_11ea_b0b4_0242ac1c0002row0_col2\" class=\"data row0 col2\" >8</td>\n",
              "            </tr>\n",
              "            <tr>\n",
              "                        <th id=\"T_1de64c5a_cb61_11ea_b0b4_0242ac1c0002level0_row1\" class=\"row_heading level0 row1\" >1</th>\n",
              "                        <td id=\"T_1de64c5a_cb61_11ea_b0b4_0242ac1c0002row1_col0\" class=\"data row1 col0\" >25</td>\n",
              "                        <td id=\"T_1de64c5a_cb61_11ea_b0b4_0242ac1c0002row1_col1\" class=\"data row1 col1\" >8</td>\n",
              "                        <td id=\"T_1de64c5a_cb61_11ea_b0b4_0242ac1c0002row1_col2\" class=\"data row1 col2\" >3</td>\n",
              "            </tr>\n",
              "            <tr>\n",
              "                        <th id=\"T_1de64c5a_cb61_11ea_b0b4_0242ac1c0002level0_row2\" class=\"row_heading level0 row2\" >2</th>\n",
              "                        <td id=\"T_1de64c5a_cb61_11ea_b0b4_0242ac1c0002row2_col0\" class=\"data row2 col0\" >10</td>\n",
              "                        <td id=\"T_1de64c5a_cb61_11ea_b0b4_0242ac1c0002row2_col1\" class=\"data row2 col1\" >3</td>\n",
              "                        <td id=\"T_1de64c5a_cb61_11ea_b0b4_0242ac1c0002row2_col2\" class=\"data row2 col2\" >1</td>\n",
              "            </tr>\n",
              "    </tbody></table>"
            ],
            "text/plain": [
              "<pandas.io.formats.style.Styler at 0x7f5f2b5634e0>"
            ]
          },
          "metadata": {
            "tags": []
          }
        },
        {
          "output_type": "display_data",
          "data": {
            "text/html": [
              "<style  type=\"text/css\" >\n",
              "    #T_1de77cba_cb61_11ea_b0b4_0242ac1c0002row0_col0 {\n",
              "            color:  red;\n",
              "        }    #T_1de77cba_cb61_11ea_b0b4_0242ac1c0002row0_col1 {\n",
              "            color:  black;\n",
              "        }    #T_1de77cba_cb61_11ea_b0b4_0242ac1c0002row0_col2 {\n",
              "            color:  black;\n",
              "        }    #T_1de77cba_cb61_11ea_b0b4_0242ac1c0002row1_col0 {\n",
              "            color:  red;\n",
              "        }    #T_1de77cba_cb61_11ea_b0b4_0242ac1c0002row1_col1 {\n",
              "            color:  black;\n",
              "        }    #T_1de77cba_cb61_11ea_b0b4_0242ac1c0002row1_col2 {\n",
              "            color:  black;\n",
              "        }    #T_1de77cba_cb61_11ea_b0b4_0242ac1c0002row2_col0 {\n",
              "            color:  black;\n",
              "        }    #T_1de77cba_cb61_11ea_b0b4_0242ac1c0002row2_col1 {\n",
              "            color:  black;\n",
              "        }    #T_1de77cba_cb61_11ea_b0b4_0242ac1c0002row2_col2 {\n",
              "            color:  black;\n",
              "        }</style><table id=\"T_1de77cba_cb61_11ea_b0b4_0242ac1c0002\" ><thead>    <tr>        <th class=\"blank level0\" ></th>        <th class=\"col_heading level0 col0\" >A</th>        <th class=\"col_heading level0 col1\" >B</th>        <th class=\"col_heading level0 col2\" >C</th>    </tr></thead><tbody>\n",
              "                <tr>\n",
              "                        <th id=\"T_1de77cba_cb61_11ea_b0b4_0242ac1c0002level0_row0\" class=\"row_heading level0 row0\" >0</th>\n",
              "                        <td id=\"T_1de77cba_cb61_11ea_b0b4_0242ac1c0002row0_col0\" class=\"data row0 col0\" >23</td>\n",
              "                        <td id=\"T_1de77cba_cb61_11ea_b0b4_0242ac1c0002row0_col1\" class=\"data row0 col1\" >7</td>\n",
              "                        <td id=\"T_1de77cba_cb61_11ea_b0b4_0242ac1c0002row0_col2\" class=\"data row0 col2\" >8</td>\n",
              "            </tr>\n",
              "            <tr>\n",
              "                        <th id=\"T_1de77cba_cb61_11ea_b0b4_0242ac1c0002level0_row1\" class=\"row_heading level0 row1\" >1</th>\n",
              "                        <td id=\"T_1de77cba_cb61_11ea_b0b4_0242ac1c0002row1_col0\" class=\"data row1 col0\" >25</td>\n",
              "                        <td id=\"T_1de77cba_cb61_11ea_b0b4_0242ac1c0002row1_col1\" class=\"data row1 col1\" >8</td>\n",
              "                        <td id=\"T_1de77cba_cb61_11ea_b0b4_0242ac1c0002row1_col2\" class=\"data row1 col2\" >3</td>\n",
              "            </tr>\n",
              "            <tr>\n",
              "                        <th id=\"T_1de77cba_cb61_11ea_b0b4_0242ac1c0002level0_row2\" class=\"row_heading level0 row2\" >2</th>\n",
              "                        <td id=\"T_1de77cba_cb61_11ea_b0b4_0242ac1c0002row2_col0\" class=\"data row2 col0\" >10</td>\n",
              "                        <td id=\"T_1de77cba_cb61_11ea_b0b4_0242ac1c0002row2_col1\" class=\"data row2 col1\" >3</td>\n",
              "                        <td id=\"T_1de77cba_cb61_11ea_b0b4_0242ac1c0002row2_col2\" class=\"data row2 col2\" >1</td>\n",
              "            </tr>\n",
              "    </tbody></table>"
            ],
            "text/plain": [
              "<pandas.io.formats.style.Styler at 0x7f5f2c118400>"
            ]
          },
          "metadata": {
            "tags": []
          }
        }
      ]
    },
    {
      "cell_type": "code",
      "metadata": {
        "id": "Jx4ViyvByHsM",
        "colab_type": "code",
        "colab": {
          "base_uri": "https://localhost:8080/",
          "height": 250
        },
        "outputId": "0aac2dca-0f04-44dd-f09a-8e2f33ae9c74"
      },
      "source": [
        "# https://pandas.pydata.org/pandas-docs/version/1.0.5/user_guide/style.html\n",
        "\n",
        "# this example did not work here\n",
        "\n",
        "np.random.seed(24)\n",
        "df = pd.DataFrame({'A': np.linspace(1, 10, 10)})\n",
        "df = pd.concat([df, pd.DataFrame(np.random.randn(10, 4), columns=list('BCDE'))],\n",
        "               axis=1)\n",
        "df.iloc[0, 2] = np.nan\n",
        "\n",
        "#display(df)\n",
        "\n",
        "def color_negative_red(val):\n",
        "    \"\"\"\n",
        "    Takes a scalar and returns a string with\n",
        "    the css property `'color: red'` for negative\n",
        "    strings, black otherwise.\n",
        "    \"\"\"\n",
        "    color = 'red' if val < 0 else 'black'\n",
        "    return 'color: %s' % color\n",
        "\n",
        "s = df.style.applymap(color_negative_red, subset=['D','E'])\n",
        "# s = df.style.applymap(color_negative_red)\n",
        "s\n"
      ],
      "execution_count": null,
      "outputs": [
        {
          "output_type": "execute_result",
          "data": {
            "text/html": [
              "<style  type=\"text/css\" >\n",
              "    #T_4e365d06_ccb9_11ea_b660_0242ac1c0002row0_col0 {\n",
              "            color:  black;\n",
              "        }    #T_4e365d06_ccb9_11ea_b660_0242ac1c0002row0_col1 {\n",
              "            color:  black;\n",
              "        }    #T_4e365d06_ccb9_11ea_b660_0242ac1c0002row0_col2 {\n",
              "            color:  black;\n",
              "        }    #T_4e365d06_ccb9_11ea_b660_0242ac1c0002row0_col3 {\n",
              "            color:  red;\n",
              "        }    #T_4e365d06_ccb9_11ea_b660_0242ac1c0002row0_col4 {\n",
              "            color:  red;\n",
              "        }    #T_4e365d06_ccb9_11ea_b660_0242ac1c0002row1_col0 {\n",
              "            color:  black;\n",
              "        }    #T_4e365d06_ccb9_11ea_b660_0242ac1c0002row1_col1 {\n",
              "            color:  red;\n",
              "        }    #T_4e365d06_ccb9_11ea_b660_0242ac1c0002row1_col2 {\n",
              "            color:  red;\n",
              "        }    #T_4e365d06_ccb9_11ea_b660_0242ac1c0002row1_col3 {\n",
              "            color:  black;\n",
              "        }    #T_4e365d06_ccb9_11ea_b660_0242ac1c0002row1_col4 {\n",
              "            color:  black;\n",
              "        }    #T_4e365d06_ccb9_11ea_b660_0242ac1c0002row2_col0 {\n",
              "            color:  black;\n",
              "        }    #T_4e365d06_ccb9_11ea_b660_0242ac1c0002row2_col1 {\n",
              "            color:  red;\n",
              "        }    #T_4e365d06_ccb9_11ea_b660_0242ac1c0002row2_col2 {\n",
              "            color:  black;\n",
              "        }    #T_4e365d06_ccb9_11ea_b660_0242ac1c0002row2_col3 {\n",
              "            color:  black;\n",
              "        }    #T_4e365d06_ccb9_11ea_b660_0242ac1c0002row2_col4 {\n",
              "            color:  black;\n",
              "        }    #T_4e365d06_ccb9_11ea_b660_0242ac1c0002row3_col0 {\n",
              "            color:  black;\n",
              "        }    #T_4e365d06_ccb9_11ea_b660_0242ac1c0002row3_col1 {\n",
              "            color:  black;\n",
              "        }    #T_4e365d06_ccb9_11ea_b660_0242ac1c0002row3_col2 {\n",
              "            color:  black;\n",
              "        }    #T_4e365d06_ccb9_11ea_b660_0242ac1c0002row3_col3 {\n",
              "            color:  red;\n",
              "        }    #T_4e365d06_ccb9_11ea_b660_0242ac1c0002row3_col4 {\n",
              "            color:  black;\n",
              "        }    #T_4e365d06_ccb9_11ea_b660_0242ac1c0002row4_col0 {\n",
              "            color:  black;\n",
              "        }    #T_4e365d06_ccb9_11ea_b660_0242ac1c0002row4_col1 {\n",
              "            color:  black;\n",
              "        }    #T_4e365d06_ccb9_11ea_b660_0242ac1c0002row4_col2 {\n",
              "            color:  black;\n",
              "        }    #T_4e365d06_ccb9_11ea_b660_0242ac1c0002row4_col3 {\n",
              "            color:  black;\n",
              "        }    #T_4e365d06_ccb9_11ea_b660_0242ac1c0002row4_col4 {\n",
              "            color:  black;\n",
              "        }    #T_4e365d06_ccb9_11ea_b660_0242ac1c0002row5_col0 {\n",
              "            color:  black;\n",
              "        }    #T_4e365d06_ccb9_11ea_b660_0242ac1c0002row5_col1 {\n",
              "            color:  red;\n",
              "        }    #T_4e365d06_ccb9_11ea_b660_0242ac1c0002row5_col2 {\n",
              "            color:  black;\n",
              "        }    #T_4e365d06_ccb9_11ea_b660_0242ac1c0002row5_col3 {\n",
              "            color:  black;\n",
              "        }    #T_4e365d06_ccb9_11ea_b660_0242ac1c0002row5_col4 {\n",
              "            color:  red;\n",
              "        }    #T_4e365d06_ccb9_11ea_b660_0242ac1c0002row6_col0 {\n",
              "            color:  black;\n",
              "        }    #T_4e365d06_ccb9_11ea_b660_0242ac1c0002row6_col1 {\n",
              "            color:  black;\n",
              "        }    #T_4e365d06_ccb9_11ea_b660_0242ac1c0002row6_col2 {\n",
              "            color:  black;\n",
              "        }    #T_4e365d06_ccb9_11ea_b660_0242ac1c0002row6_col3 {\n",
              "            color:  red;\n",
              "        }    #T_4e365d06_ccb9_11ea_b660_0242ac1c0002row6_col4 {\n",
              "            color:  black;\n",
              "        }    #T_4e365d06_ccb9_11ea_b660_0242ac1c0002row7_col0 {\n",
              "            color:  black;\n",
              "        }    #T_4e365d06_ccb9_11ea_b660_0242ac1c0002row7_col1 {\n",
              "            color:  black;\n",
              "        }    #T_4e365d06_ccb9_11ea_b660_0242ac1c0002row7_col2 {\n",
              "            color:  black;\n",
              "        }    #T_4e365d06_ccb9_11ea_b660_0242ac1c0002row7_col3 {\n",
              "            color:  red;\n",
              "        }    #T_4e365d06_ccb9_11ea_b660_0242ac1c0002row7_col4 {\n",
              "            color:  black;\n",
              "        }    #T_4e365d06_ccb9_11ea_b660_0242ac1c0002row8_col0 {\n",
              "            color:  black;\n",
              "        }    #T_4e365d06_ccb9_11ea_b660_0242ac1c0002row8_col1 {\n",
              "            color:  black;\n",
              "        }    #T_4e365d06_ccb9_11ea_b660_0242ac1c0002row8_col2 {\n",
              "            color:  red;\n",
              "        }    #T_4e365d06_ccb9_11ea_b660_0242ac1c0002row8_col3 {\n",
              "            color:  black;\n",
              "        }    #T_4e365d06_ccb9_11ea_b660_0242ac1c0002row8_col4 {\n",
              "            color:  red;\n",
              "        }    #T_4e365d06_ccb9_11ea_b660_0242ac1c0002row9_col0 {\n",
              "            color:  black;\n",
              "        }    #T_4e365d06_ccb9_11ea_b660_0242ac1c0002row9_col1 {\n",
              "            color:  red;\n",
              "        }    #T_4e365d06_ccb9_11ea_b660_0242ac1c0002row9_col2 {\n",
              "            color:  black;\n",
              "        }    #T_4e365d06_ccb9_11ea_b660_0242ac1c0002row9_col3 {\n",
              "            color:  red;\n",
              "        }    #T_4e365d06_ccb9_11ea_b660_0242ac1c0002row9_col4 {\n",
              "            color:  black;\n",
              "        }</style><table id=\"T_4e365d06_ccb9_11ea_b660_0242ac1c0002\" ><thead>    <tr>        <th class=\"blank level0\" ></th>        <th class=\"col_heading level0 col0\" >A</th>        <th class=\"col_heading level0 col1\" >B</th>        <th class=\"col_heading level0 col2\" >C</th>        <th class=\"col_heading level0 col3\" >D</th>        <th class=\"col_heading level0 col4\" >E</th>    </tr></thead><tbody>\n",
              "                <tr>\n",
              "                        <th id=\"T_4e365d06_ccb9_11ea_b660_0242ac1c0002level0_row0\" class=\"row_heading level0 row0\" >0</th>\n",
              "                        <td id=\"T_4e365d06_ccb9_11ea_b660_0242ac1c0002row0_col0\" class=\"data row0 col0\" >1.000000</td>\n",
              "                        <td id=\"T_4e365d06_ccb9_11ea_b660_0242ac1c0002row0_col1\" class=\"data row0 col1\" >1.329212</td>\n",
              "                        <td id=\"T_4e365d06_ccb9_11ea_b660_0242ac1c0002row0_col2\" class=\"data row0 col2\" >nan</td>\n",
              "                        <td id=\"T_4e365d06_ccb9_11ea_b660_0242ac1c0002row0_col3\" class=\"data row0 col3\" >-0.316280</td>\n",
              "                        <td id=\"T_4e365d06_ccb9_11ea_b660_0242ac1c0002row0_col4\" class=\"data row0 col4\" >-0.990810</td>\n",
              "            </tr>\n",
              "            <tr>\n",
              "                        <th id=\"T_4e365d06_ccb9_11ea_b660_0242ac1c0002level0_row1\" class=\"row_heading level0 row1\" >1</th>\n",
              "                        <td id=\"T_4e365d06_ccb9_11ea_b660_0242ac1c0002row1_col0\" class=\"data row1 col0\" >2.000000</td>\n",
              "                        <td id=\"T_4e365d06_ccb9_11ea_b660_0242ac1c0002row1_col1\" class=\"data row1 col1\" >-1.070816</td>\n",
              "                        <td id=\"T_4e365d06_ccb9_11ea_b660_0242ac1c0002row1_col2\" class=\"data row1 col2\" >-1.438713</td>\n",
              "                        <td id=\"T_4e365d06_ccb9_11ea_b660_0242ac1c0002row1_col3\" class=\"data row1 col3\" >0.564417</td>\n",
              "                        <td id=\"T_4e365d06_ccb9_11ea_b660_0242ac1c0002row1_col4\" class=\"data row1 col4\" >0.295722</td>\n",
              "            </tr>\n",
              "            <tr>\n",
              "                        <th id=\"T_4e365d06_ccb9_11ea_b660_0242ac1c0002level0_row2\" class=\"row_heading level0 row2\" >2</th>\n",
              "                        <td id=\"T_4e365d06_ccb9_11ea_b660_0242ac1c0002row2_col0\" class=\"data row2 col0\" >3.000000</td>\n",
              "                        <td id=\"T_4e365d06_ccb9_11ea_b660_0242ac1c0002row2_col1\" class=\"data row2 col1\" >-1.626404</td>\n",
              "                        <td id=\"T_4e365d06_ccb9_11ea_b660_0242ac1c0002row2_col2\" class=\"data row2 col2\" >0.219565</td>\n",
              "                        <td id=\"T_4e365d06_ccb9_11ea_b660_0242ac1c0002row2_col3\" class=\"data row2 col3\" >0.678805</td>\n",
              "                        <td id=\"T_4e365d06_ccb9_11ea_b660_0242ac1c0002row2_col4\" class=\"data row2 col4\" >1.889273</td>\n",
              "            </tr>\n",
              "            <tr>\n",
              "                        <th id=\"T_4e365d06_ccb9_11ea_b660_0242ac1c0002level0_row3\" class=\"row_heading level0 row3\" >3</th>\n",
              "                        <td id=\"T_4e365d06_ccb9_11ea_b660_0242ac1c0002row3_col0\" class=\"data row3 col0\" >4.000000</td>\n",
              "                        <td id=\"T_4e365d06_ccb9_11ea_b660_0242ac1c0002row3_col1\" class=\"data row3 col1\" >0.961538</td>\n",
              "                        <td id=\"T_4e365d06_ccb9_11ea_b660_0242ac1c0002row3_col2\" class=\"data row3 col2\" >0.104011</td>\n",
              "                        <td id=\"T_4e365d06_ccb9_11ea_b660_0242ac1c0002row3_col3\" class=\"data row3 col3\" >-0.481165</td>\n",
              "                        <td id=\"T_4e365d06_ccb9_11ea_b660_0242ac1c0002row3_col4\" class=\"data row3 col4\" >0.850229</td>\n",
              "            </tr>\n",
              "            <tr>\n",
              "                        <th id=\"T_4e365d06_ccb9_11ea_b660_0242ac1c0002level0_row4\" class=\"row_heading level0 row4\" >4</th>\n",
              "                        <td id=\"T_4e365d06_ccb9_11ea_b660_0242ac1c0002row4_col0\" class=\"data row4 col0\" >5.000000</td>\n",
              "                        <td id=\"T_4e365d06_ccb9_11ea_b660_0242ac1c0002row4_col1\" class=\"data row4 col1\" >1.453425</td>\n",
              "                        <td id=\"T_4e365d06_ccb9_11ea_b660_0242ac1c0002row4_col2\" class=\"data row4 col2\" >1.057737</td>\n",
              "                        <td id=\"T_4e365d06_ccb9_11ea_b660_0242ac1c0002row4_col3\" class=\"data row4 col3\" >0.165562</td>\n",
              "                        <td id=\"T_4e365d06_ccb9_11ea_b660_0242ac1c0002row4_col4\" class=\"data row4 col4\" >0.515018</td>\n",
              "            </tr>\n",
              "            <tr>\n",
              "                        <th id=\"T_4e365d06_ccb9_11ea_b660_0242ac1c0002level0_row5\" class=\"row_heading level0 row5\" >5</th>\n",
              "                        <td id=\"T_4e365d06_ccb9_11ea_b660_0242ac1c0002row5_col0\" class=\"data row5 col0\" >6.000000</td>\n",
              "                        <td id=\"T_4e365d06_ccb9_11ea_b660_0242ac1c0002row5_col1\" class=\"data row5 col1\" >-1.336936</td>\n",
              "                        <td id=\"T_4e365d06_ccb9_11ea_b660_0242ac1c0002row5_col2\" class=\"data row5 col2\" >0.562861</td>\n",
              "                        <td id=\"T_4e365d06_ccb9_11ea_b660_0242ac1c0002row5_col3\" class=\"data row5 col3\" >1.392855</td>\n",
              "                        <td id=\"T_4e365d06_ccb9_11ea_b660_0242ac1c0002row5_col4\" class=\"data row5 col4\" >-0.063328</td>\n",
              "            </tr>\n",
              "            <tr>\n",
              "                        <th id=\"T_4e365d06_ccb9_11ea_b660_0242ac1c0002level0_row6\" class=\"row_heading level0 row6\" >6</th>\n",
              "                        <td id=\"T_4e365d06_ccb9_11ea_b660_0242ac1c0002row6_col0\" class=\"data row6 col0\" >7.000000</td>\n",
              "                        <td id=\"T_4e365d06_ccb9_11ea_b660_0242ac1c0002row6_col1\" class=\"data row6 col1\" >0.121668</td>\n",
              "                        <td id=\"T_4e365d06_ccb9_11ea_b660_0242ac1c0002row6_col2\" class=\"data row6 col2\" >1.207603</td>\n",
              "                        <td id=\"T_4e365d06_ccb9_11ea_b660_0242ac1c0002row6_col3\" class=\"data row6 col3\" >-0.002040</td>\n",
              "                        <td id=\"T_4e365d06_ccb9_11ea_b660_0242ac1c0002row6_col4\" class=\"data row6 col4\" >1.627796</td>\n",
              "            </tr>\n",
              "            <tr>\n",
              "                        <th id=\"T_4e365d06_ccb9_11ea_b660_0242ac1c0002level0_row7\" class=\"row_heading level0 row7\" >7</th>\n",
              "                        <td id=\"T_4e365d06_ccb9_11ea_b660_0242ac1c0002row7_col0\" class=\"data row7 col0\" >8.000000</td>\n",
              "                        <td id=\"T_4e365d06_ccb9_11ea_b660_0242ac1c0002row7_col1\" class=\"data row7 col1\" >0.354493</td>\n",
              "                        <td id=\"T_4e365d06_ccb9_11ea_b660_0242ac1c0002row7_col2\" class=\"data row7 col2\" >1.037528</td>\n",
              "                        <td id=\"T_4e365d06_ccb9_11ea_b660_0242ac1c0002row7_col3\" class=\"data row7 col3\" >-0.385684</td>\n",
              "                        <td id=\"T_4e365d06_ccb9_11ea_b660_0242ac1c0002row7_col4\" class=\"data row7 col4\" >0.519818</td>\n",
              "            </tr>\n",
              "            <tr>\n",
              "                        <th id=\"T_4e365d06_ccb9_11ea_b660_0242ac1c0002level0_row8\" class=\"row_heading level0 row8\" >8</th>\n",
              "                        <td id=\"T_4e365d06_ccb9_11ea_b660_0242ac1c0002row8_col0\" class=\"data row8 col0\" >9.000000</td>\n",
              "                        <td id=\"T_4e365d06_ccb9_11ea_b660_0242ac1c0002row8_col1\" class=\"data row8 col1\" >1.686583</td>\n",
              "                        <td id=\"T_4e365d06_ccb9_11ea_b660_0242ac1c0002row8_col2\" class=\"data row8 col2\" >-1.325963</td>\n",
              "                        <td id=\"T_4e365d06_ccb9_11ea_b660_0242ac1c0002row8_col3\" class=\"data row8 col3\" >1.428984</td>\n",
              "                        <td id=\"T_4e365d06_ccb9_11ea_b660_0242ac1c0002row8_col4\" class=\"data row8 col4\" >-2.089354</td>\n",
              "            </tr>\n",
              "            <tr>\n",
              "                        <th id=\"T_4e365d06_ccb9_11ea_b660_0242ac1c0002level0_row9\" class=\"row_heading level0 row9\" >9</th>\n",
              "                        <td id=\"T_4e365d06_ccb9_11ea_b660_0242ac1c0002row9_col0\" class=\"data row9 col0\" >10.000000</td>\n",
              "                        <td id=\"T_4e365d06_ccb9_11ea_b660_0242ac1c0002row9_col1\" class=\"data row9 col1\" >-0.129820</td>\n",
              "                        <td id=\"T_4e365d06_ccb9_11ea_b660_0242ac1c0002row9_col2\" class=\"data row9 col2\" >0.631523</td>\n",
              "                        <td id=\"T_4e365d06_ccb9_11ea_b660_0242ac1c0002row9_col3\" class=\"data row9 col3\" >-0.586538</td>\n",
              "                        <td id=\"T_4e365d06_ccb9_11ea_b660_0242ac1c0002row9_col4\" class=\"data row9 col4\" >0.290720</td>\n",
              "            </tr>\n",
              "    </tbody></table>"
            ],
            "text/plain": [
              "<pandas.io.formats.style.Styler at 0x7fb646da6358>"
            ]
          },
          "metadata": {
            "tags": []
          },
          "execution_count": 12
        }
      ]
    },
    {
      "cell_type": "code",
      "metadata": {
        "id": "nR2nj2WbfD-2",
        "colab_type": "code",
        "colab": {}
      },
      "source": [
        ""
      ],
      "execution_count": null,
      "outputs": []
    }
  ]
}