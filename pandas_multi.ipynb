{
  "nbformat": 4,
  "nbformat_minor": 0,
  "metadata": {
    "colab": {
      "name": "pandas_multi.ipynb",
      "provenance": [],
      "authorship_tag": "ABX9TyOZ+UFs0TjCulC6bIJq6IdL",
      "include_colab_link": true
    },
    "kernelspec": {
      "name": "python3",
      "display_name": "Python 3"
    },
    "widgets": {
      "application/vnd.jupyter.widget-state+json": {
        "74b70020b8bf4dd9be047a84727bfadf": {
          "model_module": "@jupyter-widgets/controls",
          "model_name": "HBoxModel",
          "state": {
            "_view_name": "HBoxView",
            "_dom_classes": [],
            "_model_name": "HBoxModel",
            "_view_module": "@jupyter-widgets/controls",
            "_model_module_version": "1.5.0",
            "_view_count": null,
            "_view_module_version": "1.5.0",
            "box_style": "",
            "layout": "IPY_MODEL_26f93e038750448c8a534e07189b69ac",
            "_model_module": "@jupyter-widgets/controls",
            "children": [
              "IPY_MODEL_3dceec4e97e64705964bd7338ce6a72e",
              "IPY_MODEL_967dbc9ef0db4eb0a28af9c464a40d04"
            ]
          }
        },
        "26f93e038750448c8a534e07189b69ac": {
          "model_module": "@jupyter-widgets/base",
          "model_name": "LayoutModel",
          "state": {
            "_view_name": "LayoutView",
            "grid_template_rows": null,
            "right": null,
            "justify_content": null,
            "_view_module": "@jupyter-widgets/base",
            "overflow": null,
            "_model_module_version": "1.2.0",
            "_view_count": null,
            "flex_flow": null,
            "width": null,
            "min_width": null,
            "border": null,
            "align_items": null,
            "bottom": null,
            "_model_module": "@jupyter-widgets/base",
            "top": null,
            "grid_column": null,
            "overflow_y": null,
            "overflow_x": null,
            "grid_auto_flow": null,
            "grid_area": null,
            "grid_template_columns": null,
            "flex": null,
            "_model_name": "LayoutModel",
            "justify_items": null,
            "grid_row": null,
            "max_height": null,
            "align_content": null,
            "visibility": null,
            "align_self": null,
            "height": null,
            "min_height": null,
            "padding": null,
            "grid_auto_rows": null,
            "grid_gap": null,
            "max_width": null,
            "order": null,
            "_view_module_version": "1.2.0",
            "grid_template_areas": null,
            "object_position": null,
            "object_fit": null,
            "grid_auto_columns": null,
            "margin": null,
            "display": null,
            "left": null
          }
        },
        "3dceec4e97e64705964bd7338ce6a72e": {
          "model_module": "@jupyter-widgets/controls",
          "model_name": "FloatProgressModel",
          "state": {
            "_view_name": "ProgressView",
            "style": "IPY_MODEL_1034247268a845b19d1b815544125561",
            "_dom_classes": [],
            "description": "",
            "_model_name": "FloatProgressModel",
            "bar_style": "info",
            "max": 1,
            "_view_module": "@jupyter-widgets/controls",
            "_model_module_version": "1.5.0",
            "value": 0,
            "_view_count": null,
            "_view_module_version": "1.5.0",
            "orientation": "horizontal",
            "min": 0,
            "description_tooltip": null,
            "_model_module": "@jupyter-widgets/controls",
            "layout": "IPY_MODEL_5e7117c7670f440794332b625babbefe"
          }
        },
        "967dbc9ef0db4eb0a28af9c464a40d04": {
          "model_module": "@jupyter-widgets/controls",
          "model_name": "HTMLModel",
          "state": {
            "_view_name": "HTMLView",
            "style": "IPY_MODEL_4a957ff83a024760b4056d83d9ccd5e8",
            "_dom_classes": [],
            "description": "",
            "_model_name": "HTMLModel",
            "placeholder": "​",
            "_view_module": "@jupyter-widgets/controls",
            "_model_module_version": "1.5.0",
            "value": " 0/? [00:00&lt;?, ?it/s]",
            "_view_count": null,
            "_view_module_version": "1.5.0",
            "description_tooltip": null,
            "_model_module": "@jupyter-widgets/controls",
            "layout": "IPY_MODEL_f64ec8732c1f469e9677bfa2b3dfaabb"
          }
        },
        "1034247268a845b19d1b815544125561": {
          "model_module": "@jupyter-widgets/controls",
          "model_name": "ProgressStyleModel",
          "state": {
            "_view_name": "StyleView",
            "_model_name": "ProgressStyleModel",
            "description_width": "initial",
            "_view_module": "@jupyter-widgets/base",
            "_model_module_version": "1.5.0",
            "_view_count": null,
            "_view_module_version": "1.2.0",
            "bar_color": null,
            "_model_module": "@jupyter-widgets/controls"
          }
        },
        "5e7117c7670f440794332b625babbefe": {
          "model_module": "@jupyter-widgets/base",
          "model_name": "LayoutModel",
          "state": {
            "_view_name": "LayoutView",
            "grid_template_rows": null,
            "right": null,
            "justify_content": null,
            "_view_module": "@jupyter-widgets/base",
            "overflow": null,
            "_model_module_version": "1.2.0",
            "_view_count": null,
            "flex_flow": null,
            "width": null,
            "min_width": null,
            "border": null,
            "align_items": null,
            "bottom": null,
            "_model_module": "@jupyter-widgets/base",
            "top": null,
            "grid_column": null,
            "overflow_y": null,
            "overflow_x": null,
            "grid_auto_flow": null,
            "grid_area": null,
            "grid_template_columns": null,
            "flex": null,
            "_model_name": "LayoutModel",
            "justify_items": null,
            "grid_row": null,
            "max_height": null,
            "align_content": null,
            "visibility": null,
            "align_self": null,
            "height": null,
            "min_height": null,
            "padding": null,
            "grid_auto_rows": null,
            "grid_gap": null,
            "max_width": null,
            "order": null,
            "_view_module_version": "1.2.0",
            "grid_template_areas": null,
            "object_position": null,
            "object_fit": null,
            "grid_auto_columns": null,
            "margin": null,
            "display": null,
            "left": null
          }
        },
        "4a957ff83a024760b4056d83d9ccd5e8": {
          "model_module": "@jupyter-widgets/controls",
          "model_name": "DescriptionStyleModel",
          "state": {
            "_view_name": "StyleView",
            "_model_name": "DescriptionStyleModel",
            "description_width": "",
            "_view_module": "@jupyter-widgets/base",
            "_model_module_version": "1.5.0",
            "_view_count": null,
            "_view_module_version": "1.2.0",
            "_model_module": "@jupyter-widgets/controls"
          }
        },
        "f64ec8732c1f469e9677bfa2b3dfaabb": {
          "model_module": "@jupyter-widgets/base",
          "model_name": "LayoutModel",
          "state": {
            "_view_name": "LayoutView",
            "grid_template_rows": null,
            "right": null,
            "justify_content": null,
            "_view_module": "@jupyter-widgets/base",
            "overflow": null,
            "_model_module_version": "1.2.0",
            "_view_count": null,
            "flex_flow": null,
            "width": null,
            "min_width": null,
            "border": null,
            "align_items": null,
            "bottom": null,
            "_model_module": "@jupyter-widgets/base",
            "top": null,
            "grid_column": null,
            "overflow_y": null,
            "overflow_x": null,
            "grid_auto_flow": null,
            "grid_area": null,
            "grid_template_columns": null,
            "flex": null,
            "_model_name": "LayoutModel",
            "justify_items": null,
            "grid_row": null,
            "max_height": null,
            "align_content": null,
            "visibility": null,
            "align_self": null,
            "height": null,
            "min_height": null,
            "padding": null,
            "grid_auto_rows": null,
            "grid_gap": null,
            "max_width": null,
            "order": null,
            "_view_module_version": "1.2.0",
            "grid_template_areas": null,
            "object_position": null,
            "object_fit": null,
            "grid_auto_columns": null,
            "margin": null,
            "display": null,
            "left": null
          }
        }
      }
    }
  },
  "cells": [
    {
      "cell_type": "markdown",
      "metadata": {
        "id": "view-in-github",
        "colab_type": "text"
      },
      "source": [
        "<a href=\"https://colab.research.google.com/github/zwotzie/googlecolaboratory/blob/master/pandas_multi.ipynb\" target=\"_parent\"><img src=\"https://colab.research.google.com/assets/colab-badge.svg\" alt=\"Open In Colab\"/></a>"
      ]
    },
    {
      "cell_type": "code",
      "metadata": {
        "id": "ZkuHncIb6vKb",
        "colab_type": "code",
        "colab": {
          "base_uri": "https://localhost:8080/",
          "height": 134,
          "referenced_widgets": [
            "74b70020b8bf4dd9be047a84727bfadf",
            "26f93e038750448c8a534e07189b69ac",
            "3dceec4e97e64705964bd7338ce6a72e",
            "967dbc9ef0db4eb0a28af9c464a40d04",
            "1034247268a845b19d1b815544125561",
            "5e7117c7670f440794332b625babbefe",
            "4a957ff83a024760b4056d83d9ccd5e8",
            "f64ec8732c1f469e9677bfa2b3dfaabb"
          ]
        },
        "outputId": "218adf69-df46-4805-91d9-4e4517329e09"
      },
      "source": [
        "import pandas as pd\n",
        "import numpy as np\n",
        "import matplotlib.pyplot as plt\n",
        "from IPython.display import display_markdown\n",
        "\n",
        "from tqdm import tqdm_notebook as tqdm\n",
        "tqdm().pandas()\n",
        "\n",
        "# https://pandas.pydata.org/pandas-docs/stable/reference/api/pandas.set_option.html\n",
        "pd.set_option('display.max_columns', None)\n",
        "# pd.options.display.max_columns = None\n",
        "pd.set_option('display.max_rows', None)\n",
        "pd.options.display.float_format = '{:.2f}%'.format\n",
        "\n",
        "print(\"Pandas Version: \", pd.__version__)\n",
        "print(\"Numpy Verion:   \", np.__version__)"
      ],
      "execution_count": 6,
      "outputs": [
        {
          "output_type": "stream",
          "text": [
            "/usr/local/lib/python3.6/dist-packages/ipykernel_launcher.py:7: TqdmDeprecationWarning: This function will be removed in tqdm==5.0.0\n",
            "Please use `tqdm.notebook.tqdm` instead of `tqdm.tqdm_notebook`\n",
            "  import sys\n"
          ],
          "name": "stderr"
        },
        {
          "output_type": "display_data",
          "data": {
            "application/vnd.jupyter.widget-view+json": {
              "model_id": "74b70020b8bf4dd9be047a84727bfadf",
              "version_minor": 0,
              "version_major": 2
            },
            "text/plain": [
              "HBox(children=(FloatProgress(value=1.0, bar_style='info', max=1.0), HTML(value='')))"
            ]
          },
          "metadata": {
            "tags": []
          }
        },
        {
          "output_type": "stream",
          "text": [
            "Pandas Version:  1.0.5\n",
            "Numpy Verion:    1.18.5\n"
          ],
          "name": "stdout"
        }
      ]
    },
    {
      "cell_type": "code",
      "metadata": {
        "id": "-FIqjC3l61hY",
        "colab_type": "code",
        "colab": {
          "base_uri": "https://localhost:8080/",
          "height": 359
        },
        "outputId": "3ebd7d5d-3c04-4a2f-e04c-6908a7380a3b"
      },
      "source": [
        "A = ['Ram', 'Ram', 'Shyam', 'Shyam', 'Mahima', 'Ram', 'Ram', 'Shyam', 'Shyam', 'Mahima']\n",
        "B = [ 'a', 'a', 'b', 'b', 'c', 'a', 'd', 'e', 'f', 'a' ]\n",
        "C = [ 'ab', 'ab', 'bb', 'bb', 'cb', 'cb', 'db', 'eb', 'fb', 'ab' ]\n",
        "D = [ random.randint(0,100) for i in range(10) ]\n",
        "\n",
        "df = pd.DataFrame({ 'field_a': A, 'field_b': B, 'field_c': C, 'field_d': D })\n",
        "\n",
        "display(df.sort_values(by=['field_a', 'field_b'], ascending = (True, True)))"
      ],
      "execution_count": 21,
      "outputs": [
        {
          "output_type": "display_data",
          "data": {
            "text/html": [
              "<div>\n",
              "<style scoped>\n",
              "    .dataframe tbody tr th:only-of-type {\n",
              "        vertical-align: middle;\n",
              "    }\n",
              "\n",
              "    .dataframe tbody tr th {\n",
              "        vertical-align: top;\n",
              "    }\n",
              "\n",
              "    .dataframe thead th {\n",
              "        text-align: right;\n",
              "    }\n",
              "</style>\n",
              "<table border=\"1\" class=\"dataframe\">\n",
              "  <thead>\n",
              "    <tr style=\"text-align: right;\">\n",
              "      <th></th>\n",
              "      <th>field_a</th>\n",
              "      <th>field_b</th>\n",
              "      <th>field_c</th>\n",
              "      <th>field_d</th>\n",
              "    </tr>\n",
              "  </thead>\n",
              "  <tbody>\n",
              "    <tr>\n",
              "      <th>9</th>\n",
              "      <td>Mahima</td>\n",
              "      <td>a</td>\n",
              "      <td>ab</td>\n",
              "      <td>74</td>\n",
              "    </tr>\n",
              "    <tr>\n",
              "      <th>4</th>\n",
              "      <td>Mahima</td>\n",
              "      <td>c</td>\n",
              "      <td>cb</td>\n",
              "      <td>41</td>\n",
              "    </tr>\n",
              "    <tr>\n",
              "      <th>0</th>\n",
              "      <td>Ram</td>\n",
              "      <td>a</td>\n",
              "      <td>ab</td>\n",
              "      <td>34</td>\n",
              "    </tr>\n",
              "    <tr>\n",
              "      <th>1</th>\n",
              "      <td>Ram</td>\n",
              "      <td>a</td>\n",
              "      <td>ab</td>\n",
              "      <td>78</td>\n",
              "    </tr>\n",
              "    <tr>\n",
              "      <th>5</th>\n",
              "      <td>Ram</td>\n",
              "      <td>a</td>\n",
              "      <td>cb</td>\n",
              "      <td>58</td>\n",
              "    </tr>\n",
              "    <tr>\n",
              "      <th>6</th>\n",
              "      <td>Ram</td>\n",
              "      <td>d</td>\n",
              "      <td>db</td>\n",
              "      <td>60</td>\n",
              "    </tr>\n",
              "    <tr>\n",
              "      <th>2</th>\n",
              "      <td>Shyam</td>\n",
              "      <td>b</td>\n",
              "      <td>bb</td>\n",
              "      <td>16</td>\n",
              "    </tr>\n",
              "    <tr>\n",
              "      <th>3</th>\n",
              "      <td>Shyam</td>\n",
              "      <td>b</td>\n",
              "      <td>bb</td>\n",
              "      <td>41</td>\n",
              "    </tr>\n",
              "    <tr>\n",
              "      <th>7</th>\n",
              "      <td>Shyam</td>\n",
              "      <td>e</td>\n",
              "      <td>eb</td>\n",
              "      <td>50</td>\n",
              "    </tr>\n",
              "    <tr>\n",
              "      <th>8</th>\n",
              "      <td>Shyam</td>\n",
              "      <td>f</td>\n",
              "      <td>fb</td>\n",
              "      <td>93</td>\n",
              "    </tr>\n",
              "  </tbody>\n",
              "</table>\n",
              "</div>"
            ],
            "text/plain": [
              "  field_a field_b field_c  field_d\n",
              "9  Mahima       a      ab       74\n",
              "4  Mahima       c      cb       41\n",
              "0     Ram       a      ab       34\n",
              "1     Ram       a      ab       78\n",
              "5     Ram       a      cb       58\n",
              "6     Ram       d      db       60\n",
              "2   Shyam       b      bb       16\n",
              "3   Shyam       b      bb       41\n",
              "7   Shyam       e      eb       50\n",
              "8   Shyam       f      fb       93"
            ]
          },
          "metadata": {
            "tags": []
          }
        }
      ]
    },
    {
      "cell_type": "code",
      "metadata": {
        "id": "rgM9tmDx9BKg",
        "colab_type": "code",
        "colab": {}
      },
      "source": [
        "ds = df.groupby(by=['field_a', 'field_b'], as_index=False).agg(\n",
        "    {\n",
        "        'field_c': ['nunique', 'count']\n",
        "    })"
      ],
      "execution_count": 22,
      "outputs": []
    },
    {
      "cell_type": "code",
      "metadata": {
        "id": "HzR2FGhZ92bz",
        "colab_type": "code",
        "colab": {
          "base_uri": "https://localhost:8080/",
          "height": 297
        },
        "outputId": "238f94d2-6ead-45f9-9b2c-f887c0d5ca96"
      },
      "source": [
        "ds"
      ],
      "execution_count": 23,
      "outputs": [
        {
          "output_type": "execute_result",
          "data": {
            "text/html": [
              "<div>\n",
              "<style scoped>\n",
              "    .dataframe tbody tr th:only-of-type {\n",
              "        vertical-align: middle;\n",
              "    }\n",
              "\n",
              "    .dataframe tbody tr th {\n",
              "        vertical-align: top;\n",
              "    }\n",
              "\n",
              "    .dataframe thead tr th {\n",
              "        text-align: left;\n",
              "    }\n",
              "</style>\n",
              "<table border=\"1\" class=\"dataframe\">\n",
              "  <thead>\n",
              "    <tr>\n",
              "      <th></th>\n",
              "      <th>field_a</th>\n",
              "      <th>field_b</th>\n",
              "      <th colspan=\"2\" halign=\"left\">field_c</th>\n",
              "    </tr>\n",
              "    <tr>\n",
              "      <th></th>\n",
              "      <th></th>\n",
              "      <th></th>\n",
              "      <th>nunique</th>\n",
              "      <th>count</th>\n",
              "    </tr>\n",
              "  </thead>\n",
              "  <tbody>\n",
              "    <tr>\n",
              "      <th>0</th>\n",
              "      <td>Mahima</td>\n",
              "      <td>a</td>\n",
              "      <td>1</td>\n",
              "      <td>1</td>\n",
              "    </tr>\n",
              "    <tr>\n",
              "      <th>1</th>\n",
              "      <td>Mahima</td>\n",
              "      <td>c</td>\n",
              "      <td>1</td>\n",
              "      <td>1</td>\n",
              "    </tr>\n",
              "    <tr>\n",
              "      <th>2</th>\n",
              "      <td>Ram</td>\n",
              "      <td>a</td>\n",
              "      <td>2</td>\n",
              "      <td>3</td>\n",
              "    </tr>\n",
              "    <tr>\n",
              "      <th>3</th>\n",
              "      <td>Ram</td>\n",
              "      <td>d</td>\n",
              "      <td>1</td>\n",
              "      <td>1</td>\n",
              "    </tr>\n",
              "    <tr>\n",
              "      <th>4</th>\n",
              "      <td>Shyam</td>\n",
              "      <td>b</td>\n",
              "      <td>1</td>\n",
              "      <td>2</td>\n",
              "    </tr>\n",
              "    <tr>\n",
              "      <th>5</th>\n",
              "      <td>Shyam</td>\n",
              "      <td>e</td>\n",
              "      <td>1</td>\n",
              "      <td>1</td>\n",
              "    </tr>\n",
              "    <tr>\n",
              "      <th>6</th>\n",
              "      <td>Shyam</td>\n",
              "      <td>f</td>\n",
              "      <td>1</td>\n",
              "      <td>1</td>\n",
              "    </tr>\n",
              "  </tbody>\n",
              "</table>\n",
              "</div>"
            ],
            "text/plain": [
              "  field_a field_b field_c      \n",
              "                  nunique count\n",
              "0  Mahima       a       1     1\n",
              "1  Mahima       c       1     1\n",
              "2     Ram       a       2     3\n",
              "3     Ram       d       1     1\n",
              "4   Shyam       b       1     2\n",
              "5   Shyam       e       1     1\n",
              "6   Shyam       f       1     1"
            ]
          },
          "metadata": {
            "tags": []
          },
          "execution_count": 23
        }
      ]
    },
    {
      "cell_type": "code",
      "metadata": {
        "id": "jQImhYth7iIn",
        "colab_type": "code",
        "colab": {
          "base_uri": "https://localhost:8080/",
          "height": 142
        },
        "outputId": "3cb83d1b-a71a-4b0b-ece5-60cdc81a62f2"
      },
      "source": [
        "domain = 'Ram'\n",
        "ds[(ds.field_a == domain) & (ds['field_c', 'nunique'] > 0)]"
      ],
      "execution_count": 35,
      "outputs": [
        {
          "output_type": "execute_result",
          "data": {
            "text/html": [
              "<div>\n",
              "<style scoped>\n",
              "    .dataframe tbody tr th:only-of-type {\n",
              "        vertical-align: middle;\n",
              "    }\n",
              "\n",
              "    .dataframe tbody tr th {\n",
              "        vertical-align: top;\n",
              "    }\n",
              "\n",
              "    .dataframe thead tr th {\n",
              "        text-align: left;\n",
              "    }\n",
              "</style>\n",
              "<table border=\"1\" class=\"dataframe\">\n",
              "  <thead>\n",
              "    <tr>\n",
              "      <th></th>\n",
              "      <th>field_a</th>\n",
              "      <th>field_b</th>\n",
              "      <th colspan=\"2\" halign=\"left\">field_c</th>\n",
              "    </tr>\n",
              "    <tr>\n",
              "      <th></th>\n",
              "      <th></th>\n",
              "      <th></th>\n",
              "      <th>nunique</th>\n",
              "      <th>count</th>\n",
              "    </tr>\n",
              "  </thead>\n",
              "  <tbody>\n",
              "    <tr>\n",
              "      <th>2</th>\n",
              "      <td>Ram</td>\n",
              "      <td>a</td>\n",
              "      <td>2</td>\n",
              "      <td>3</td>\n",
              "    </tr>\n",
              "    <tr>\n",
              "      <th>3</th>\n",
              "      <td>Ram</td>\n",
              "      <td>d</td>\n",
              "      <td>1</td>\n",
              "      <td>1</td>\n",
              "    </tr>\n",
              "  </tbody>\n",
              "</table>\n",
              "</div>"
            ],
            "text/plain": [
              "  field_a field_b field_c      \n",
              "                  nunique count\n",
              "2     Ram       a       2     3\n",
              "3     Ram       d       1     1"
            ]
          },
          "metadata": {
            "tags": []
          },
          "execution_count": 35
        }
      ]
    },
    {
      "cell_type": "code",
      "metadata": {
        "id": "RhB-X7Xd8Biq",
        "colab_type": "code",
        "colab": {
          "base_uri": "https://localhost:8080/",
          "height": 142
        },
        "outputId": "d51c215c-e1c5-4587-da90-4bb3d2acdfed"
      },
      "source": [
        "ds[(ds.field_a == domain) & (ds['field_c', 'nunique'] > 0)].sort_values(by=('field_c', 'nunique'), ascending = (True))"
      ],
      "execution_count": 36,
      "outputs": [
        {
          "output_type": "execute_result",
          "data": {
            "text/html": [
              "<div>\n",
              "<style scoped>\n",
              "    .dataframe tbody tr th:only-of-type {\n",
              "        vertical-align: middle;\n",
              "    }\n",
              "\n",
              "    .dataframe tbody tr th {\n",
              "        vertical-align: top;\n",
              "    }\n",
              "\n",
              "    .dataframe thead tr th {\n",
              "        text-align: left;\n",
              "    }\n",
              "</style>\n",
              "<table border=\"1\" class=\"dataframe\">\n",
              "  <thead>\n",
              "    <tr>\n",
              "      <th></th>\n",
              "      <th>field_a</th>\n",
              "      <th>field_b</th>\n",
              "      <th colspan=\"2\" halign=\"left\">field_c</th>\n",
              "    </tr>\n",
              "    <tr>\n",
              "      <th></th>\n",
              "      <th></th>\n",
              "      <th></th>\n",
              "      <th>nunique</th>\n",
              "      <th>count</th>\n",
              "    </tr>\n",
              "  </thead>\n",
              "  <tbody>\n",
              "    <tr>\n",
              "      <th>3</th>\n",
              "      <td>Ram</td>\n",
              "      <td>d</td>\n",
              "      <td>1</td>\n",
              "      <td>1</td>\n",
              "    </tr>\n",
              "    <tr>\n",
              "      <th>2</th>\n",
              "      <td>Ram</td>\n",
              "      <td>a</td>\n",
              "      <td>2</td>\n",
              "      <td>3</td>\n",
              "    </tr>\n",
              "  </tbody>\n",
              "</table>\n",
              "</div>"
            ],
            "text/plain": [
              "  field_a field_b field_c      \n",
              "                  nunique count\n",
              "3     Ram       d       1     1\n",
              "2     Ram       a       2     3"
            ]
          },
          "metadata": {
            "tags": []
          },
          "execution_count": 36
        }
      ]
    },
    {
      "cell_type": "code",
      "metadata": {
        "id": "-NuYr6LJ-_Zn",
        "colab_type": "code",
        "colab": {
          "base_uri": "https://localhost:8080/",
          "height": 103
        },
        "outputId": "248fda6a-7c6c-4ea2-ceaa-eda623c7dd0a"
      },
      "source": [
        "ds[(ds.field_a == domain) & (ds['field_c', 'nunique'] > 0)].sort_values(by=('field_c', 'nunique'), ascending = (True)).style.hide_index()"
      ],
      "execution_count": 38,
      "outputs": [
        {
          "output_type": "execute_result",
          "data": {
            "text/html": [
              "<style  type=\"text/css\" >\n",
              "</style><table id=\"T_d16f6cd4_c797_11ea_a792_0242ac1c0002\" ><thead>    <tr>        <th class=\"col_heading level0 col0\" >field_a</th>        <th class=\"col_heading level0 col1\" >field_b</th>        <th class=\"col_heading level0 col2\" colspan=2>field_c</th>    </tr>    <tr>        <th class=\"col_heading level1 col0\" ></th>        <th class=\"col_heading level1 col1\" ></th>        <th class=\"col_heading level1 col2\" >nunique</th>        <th class=\"col_heading level1 col3\" >count</th>    </tr></thead><tbody>\n",
              "                <tr>\n",
              "                                <td id=\"T_d16f6cd4_c797_11ea_a792_0242ac1c0002row0_col0\" class=\"data row0 col0\" >Ram</td>\n",
              "                        <td id=\"T_d16f6cd4_c797_11ea_a792_0242ac1c0002row0_col1\" class=\"data row0 col1\" >d</td>\n",
              "                        <td id=\"T_d16f6cd4_c797_11ea_a792_0242ac1c0002row0_col2\" class=\"data row0 col2\" >1</td>\n",
              "                        <td id=\"T_d16f6cd4_c797_11ea_a792_0242ac1c0002row0_col3\" class=\"data row0 col3\" >1</td>\n",
              "            </tr>\n",
              "            <tr>\n",
              "                                <td id=\"T_d16f6cd4_c797_11ea_a792_0242ac1c0002row1_col0\" class=\"data row1 col0\" >Ram</td>\n",
              "                        <td id=\"T_d16f6cd4_c797_11ea_a792_0242ac1c0002row1_col1\" class=\"data row1 col1\" >a</td>\n",
              "                        <td id=\"T_d16f6cd4_c797_11ea_a792_0242ac1c0002row1_col2\" class=\"data row1 col2\" >2</td>\n",
              "                        <td id=\"T_d16f6cd4_c797_11ea_a792_0242ac1c0002row1_col3\" class=\"data row1 col3\" >3</td>\n",
              "            </tr>\n",
              "    </tbody></table>"
            ],
            "text/plain": [
              "<pandas.io.formats.style.Styler at 0x7f4114aa8400>"
            ]
          },
          "metadata": {
            "tags": []
          },
          "execution_count": 38
        }
      ]
    },
    {
      "cell_type": "code",
      "metadata": {
        "id": "qjGFqdFr_8hP",
        "colab_type": "code",
        "colab": {
          "base_uri": "https://localhost:8080/",
          "height": 103
        },
        "outputId": "24125595-c980-414d-de82-6919d020bddf"
      },
      "source": [
        "ds[(ds.field_a == domain) & (ds['field_c', 'nunique'] > 0)].sort_values(by=('field_c', 'nunique'), ascending = (True)).style.hide_index().set_properties(subset=[\"field_a\", \"field_b\"], **{'text-align': 'left'})"
      ],
      "execution_count": 41,
      "outputs": [
        {
          "output_type": "execute_result",
          "data": {
            "text/html": [
              "<style  type=\"text/css\" >\n",
              "    #T_e64e4cf6_c797_11ea_a792_0242ac1c0002row0_col0 {\n",
              "            text-align:  left;\n",
              "        }    #T_e64e4cf6_c797_11ea_a792_0242ac1c0002row0_col1 {\n",
              "            text-align:  left;\n",
              "        }    #T_e64e4cf6_c797_11ea_a792_0242ac1c0002row1_col0 {\n",
              "            text-align:  left;\n",
              "        }    #T_e64e4cf6_c797_11ea_a792_0242ac1c0002row1_col1 {\n",
              "            text-align:  left;\n",
              "        }</style><table id=\"T_e64e4cf6_c797_11ea_a792_0242ac1c0002\" ><thead>    <tr>        <th class=\"col_heading level0 col0\" >field_a</th>        <th class=\"col_heading level0 col1\" >field_b</th>        <th class=\"col_heading level0 col2\" colspan=2>field_c</th>    </tr>    <tr>        <th class=\"col_heading level1 col0\" ></th>        <th class=\"col_heading level1 col1\" ></th>        <th class=\"col_heading level1 col2\" >nunique</th>        <th class=\"col_heading level1 col3\" >count</th>    </tr></thead><tbody>\n",
              "                <tr>\n",
              "                                <td id=\"T_e64e4cf6_c797_11ea_a792_0242ac1c0002row0_col0\" class=\"data row0 col0\" >Ram</td>\n",
              "                        <td id=\"T_e64e4cf6_c797_11ea_a792_0242ac1c0002row0_col1\" class=\"data row0 col1\" >d</td>\n",
              "                        <td id=\"T_e64e4cf6_c797_11ea_a792_0242ac1c0002row0_col2\" class=\"data row0 col2\" >1</td>\n",
              "                        <td id=\"T_e64e4cf6_c797_11ea_a792_0242ac1c0002row0_col3\" class=\"data row0 col3\" >1</td>\n",
              "            </tr>\n",
              "            <tr>\n",
              "                                <td id=\"T_e64e4cf6_c797_11ea_a792_0242ac1c0002row1_col0\" class=\"data row1 col0\" >Ram</td>\n",
              "                        <td id=\"T_e64e4cf6_c797_11ea_a792_0242ac1c0002row1_col1\" class=\"data row1 col1\" >a</td>\n",
              "                        <td id=\"T_e64e4cf6_c797_11ea_a792_0242ac1c0002row1_col2\" class=\"data row1 col2\" >2</td>\n",
              "                        <td id=\"T_e64e4cf6_c797_11ea_a792_0242ac1c0002row1_col3\" class=\"data row1 col3\" >3</td>\n",
              "            </tr>\n",
              "    </tbody></table>"
            ],
            "text/plain": [
              "<pandas.io.formats.style.Styler at 0x7f411330ada0>"
            ]
          },
          "metadata": {
            "tags": []
          },
          "execution_count": 41
        }
      ]
    },
    {
      "cell_type": "code",
      "metadata": {
        "id": "GShzCZmyB8lb",
        "colab_type": "code",
        "colab": {}
      },
      "source": [
        ""
      ],
      "execution_count": null,
      "outputs": []
    }
  ]
}