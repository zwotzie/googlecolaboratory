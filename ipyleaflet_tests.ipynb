{
  "nbformat": 4,
  "nbformat_minor": 0,
  "metadata": {
    "colab": {
      "name": "ipyleaflet_tests.ipynb",
      "provenance": [],
      "collapsed_sections": [],
      "authorship_tag": "ABX9TyMJtBApM0MaNiMTBrShH/zM",
      "include_colab_link": true
    },
    "kernelspec": {
      "name": "python3",
      "display_name": "Python 3"
    },
    "language_info": {
      "name": "python"
    },
    "widgets": {
      "application/vnd.jupyter.widget-state+json": {
        "3684e6dea70e401e90b1a7641e2c00c6": {
          "model_module": "jupyter-leaflet",
          "model_name": "LeafletMapModel",
          "state": {
            "_view_name": "LeafletMapView",
            "keyboard_pan_offset": 80,
            "right": 0,
            "tap": true,
            "_view_module": "jupyter-leaflet",
            "max_zoom": 18,
            "_model_module_version": "^0.14.0",
            "_view_count": null,
            "zoom_snap": 1,
            "min_zoom": 1,
            "bounce_at_zoom_limits": true,
            "keyboard": true,
            "north": 0,
            "scroll_wheel_zoom": false,
            "dragging": true,
            "_model_module": "jupyter-leaflet",
            "zoom_delta": 1,
            "close_popup_on_click": true,
            "fullscreen": false,
            "style": "IPY_MODEL_182c894774da4e6d8a52d4fe981504fa",
            "layout": "IPY_MODEL_1c1559baa032427fbeaad777927407f1",
            "bottom": 0,
            "inertia_max_speed": 1500,
            "top": 9007199254740991,
            "box_zoom": true,
            "controls": [
              "IPY_MODEL_d98deafe025e413aab0b320d0022bf85",
              "IPY_MODEL_37039e7d49854b57a43bb23025b4f45e"
            ],
            "default_style": "IPY_MODEL_329ee12500fb40589526f9599041e64f",
            "east": 0,
            "double_click_zoom": true,
            "interpolation": "bilinear",
            "layers": [
              "IPY_MODEL_b534c514dfb148bf9902e314a599d66a",
              "IPY_MODEL_087ab9d605d24e0a81f57d1f875fb958"
            ],
            "dragging_style": "IPY_MODEL_0497d222333342108b1efda537e131c7",
            "_dom_classes": [],
            "zoom_animation_threshold": 4,
            "_model_name": "LeafletMapModel",
            "zoom_start": 12,
            "modisdate": "yesterday",
            "keyboard_zoom_offset": 1,
            "inertia_deceleration": 3000,
            "inertia": true,
            "crs": {
              "name": "EPSG3857",
              "custom": false
            },
            "center": [
              49.08478406381458,
              8.481823350199447
            ],
            "zoom": 12,
            "world_copy_jump": false,
            "_view_module_version": "^0.14.0",
            "window_url": "",
            "tap_tolerance": 15,
            "west": 0,
            "touch_zoom": true,
            "options": [
              "bounce_at_zoom_limits",
              "box_zoom",
              "center",
              "close_popup_on_click",
              "double_click_zoom",
              "dragging",
              "fullscreen",
              "inertia",
              "inertia_deceleration",
              "inertia_max_speed",
              "interpolation",
              "keyboard",
              "keyboard_pan_offset",
              "keyboard_zoom_offset",
              "max_zoom",
              "min_zoom",
              "scroll_wheel_zoom",
              "tap",
              "tap_tolerance",
              "touch_zoom",
              "world_copy_jump",
              "zoom",
              "zoom_animation_threshold",
              "zoom_delta",
              "zoom_snap",
              "zoom_start"
            ],
            "south": 0,
            "left": 9007199254740991
          }
        },
        "8322e8aa62d241389be5ab67a897a9aa": {
          "model_module": "jupyter-leaflet",
          "model_name": "LeafletMarkerModel",
          "state": {
            "_view_name": "LeafletMarkerView",
            "rotation_angle": 0,
            "_view_module": "jupyter-leaflet",
            "_model_module_version": "^0.14.0",
            "_view_count": null,
            "visible": true,
            "keyboard": true,
            "alt": "",
            "_model_module": "jupyter-leaflet",
            "bottom": false,
            "location": [
              49.08478406381458,
              8.481823350199447
            ],
            "popup_min_width": 50,
            "opacity": 1,
            "popup": null,
            "_model_name": "LeafletMarkerModel",
            "rotation_origin": "",
            "base": false,
            "icon": null,
            "rise_offset": 250,
            "name": "",
            "popup_max_height": null,
            "popup_max_width": 300,
            "draggable": true,
            "_view_module_version": "^0.14.0",
            "z_index_offset": 0,
            "title": "DE-76297",
            "rise_on_hover": false,
            "options": [
              "alt",
              "draggable",
              "keyboard",
              "rise_offset",
              "rise_on_hover",
              "rotation_angle",
              "rotation_origin",
              "title",
              "z_index_offset"
            ]
          }
        }
      }
    }
  },
  "cells": [
    {
      "cell_type": "markdown",
      "metadata": {
        "id": "view-in-github",
        "colab_type": "text"
      },
      "source": [
        "<a href=\"https://colab.research.google.com/github/zwotzie/googlecolaboratory/blob/master/ipyleaflet_tests.ipynb\" target=\"_parent\"><img src=\"https://colab.research.google.com/assets/colab-badge.svg\" alt=\"Open In Colab\"/></a>"
      ]
    },
    {
      "cell_type": "code",
      "metadata": {
        "id": "kd8cHRipMlWO"
      },
      "source": [
        "#%pip install ipyleaflet geocoder"
      ],
      "execution_count": 2,
      "outputs": []
    },
    {
      "cell_type": "code",
      "metadata": {
        "id": "ycnwXOqrMuHj"
      },
      "source": [
        "from ipyleaflet import Map, Marker\n",
        "import geocoder"
      ],
      "execution_count": 1,
      "outputs": []
    },
    {
      "cell_type": "code",
      "metadata": {
        "id": "dAxVcXr3NCag"
      },
      "source": [
        "location = geocoder.osm('76297 Germany')"
      ],
      "execution_count": 2,
      "outputs": []
    },
    {
      "cell_type": "code",
      "metadata": {
        "id": "nq55deVxNK0_"
      },
      "source": [
        "latlng = [location.lat, location.lng]"
      ],
      "execution_count": 3,
      "outputs": []
    },
    {
      "cell_type": "code",
      "metadata": {
        "id": "8L9r6SZGNUF_"
      },
      "source": [
        "map = Map(center=latlng)"
      ],
      "execution_count": 4,
      "outputs": []
    },
    {
      "cell_type": "code",
      "metadata": {
        "id": "FOxQUc0PNcXP"
      },
      "source": [
        "marker = Marker(location=latlng, title=\"DE-76297\")"
      ],
      "execution_count": 5,
      "outputs": []
    },
    {
      "cell_type": "code",
      "metadata": {
        "id": "XebR5qcANoDe"
      },
      "source": [
        "map.add_layer(marker)"
      ],
      "execution_count": 6,
      "outputs": []
    },
    {
      "cell_type": "code",
      "metadata": {
        "colab": {
          "base_uri": "https://localhost:8080/",
          "height": 17,
          "referenced_widgets": [
            "3684e6dea70e401e90b1a7641e2c00c6"
          ]
        },
        "id": "cJQ6wmj9NrXG",
        "outputId": "2ed50979-8231-481f-d9e7-1c399970f5ba"
      },
      "source": [
        "display(map)"
      ],
      "execution_count": 8,
      "outputs": [
        {
          "output_type": "display_data",
          "data": {
            "application/vnd.jupyter.widget-view+json": {
              "model_id": "3684e6dea70e401e90b1a7641e2c00c6",
              "version_minor": 0,
              "version_major": 2
            },
            "text/plain": [
              "Map(center=[49.08478406381458, 8.481823350199447], controls=(ZoomControl(options=['position', 'zoom_in_text', …"
            ]
          },
          "metadata": {
            "tags": []
          }
        }
      ]
    },
    {
      "cell_type": "code",
      "metadata": {
        "colab": {
          "base_uri": "https://localhost:8080/",
          "height": 17,
          "referenced_widgets": [
            "8322e8aa62d241389be5ab67a897a9aa"
          ]
        },
        "id": "dCnU7W19NsUd",
        "outputId": "4b61e8f2-fbe5-41ac-86c7-245dc85b3ba1"
      },
      "source": [
        "marker"
      ],
      "execution_count": 13,
      "outputs": [
        {
          "output_type": "display_data",
          "data": {
            "application/vnd.jupyter.widget-view+json": {
              "model_id": "8322e8aa62d241389be5ab67a897a9aa",
              "version_minor": 0,
              "version_major": 2
            },
            "text/plain": [
              "Marker(location=[49.08478406381458, 8.481823350199447], options=['alt', 'draggable', 'keyboard', 'rise_offset'…"
            ]
          },
          "metadata": {
            "tags": []
          }
        }
      ]
    },
    {
      "cell_type": "markdown",
      "metadata": {
        "id": "YAgBap9IOeFw"
      },
      "source": [
        "# Neuer Abschnitt"
      ]
    },
    {
      "cell_type": "code",
      "metadata": {
        "id": "8NmD6z3KN3Hs"
      },
      "source": [
        ""
      ],
      "execution_count": null,
      "outputs": []
    }
  ]
}